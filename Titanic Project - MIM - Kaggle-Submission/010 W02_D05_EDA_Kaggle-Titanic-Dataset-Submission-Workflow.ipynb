{
 "cells": [
  {
   "cell_type": "markdown",
   "metadata": {},
   "source": [
    "# Can we predict who would've survived the Titanic?\n",
    "\n",
    "### This notebook goes through a basic exploratory data analysis of the Kaggle Titanic dataset with Python\n"
   ]
  },
  {
   "cell_type": "markdown",
   "metadata": {},
   "source": [
    "## Step 0: Why EDA?\n",
    "\n",
    "\n",
    "Not all data comes in a neat little package ready to be modelled by the latest and greatest machine learning models. Most of the time, you'll get a dataset you don't know much about. So before you can make any solid predictions, you'll to find out more.\n",
    "\n",
    "This is where EDA comes in.\n",
    "\n",
    "The main thing to remember is the first word. Exploratory. You're trying to figure out more about the data so you can build a model the best way you can.\n",
    "\n",
    "You'll usually do this when you first look at a dataset but it'll continually happen as you learn more. EDA is an iterative process. There's no one way to do it either. It'll vary with each new dataset but there are some things you'll find yourself doing more often, we'll talk about those in this notebook and in a future blog post.\n"
   ]
  },
  {
   "cell_type": "markdown",
   "metadata": {},
   "source": [
    "## Step 1: Download the data\n",
    "\n",
    "You can download the data for this notebook here: https://www.kaggle.com/c/titanic/data"
   ]
  },
  {
   "cell_type": "markdown",
   "metadata": {},
   "source": [
    "## Data Descriptions\n",
    "\n",
    "**Survival:** 0 = No, 1 = Yes\n",
    "\n",
    "**pclass (Ticket class):** 1 = 1st, 2 = 2nd, 3 = 3rd\n",
    "\n",
    "**sex:** Sex\n",
    "\n",
    "**Age:** Age in years\n",
    "\n",
    "**sibsp:** number of siblings/spouses aboard the Titanic\n",
    "\n",
    "**parch:** number of parents/children aboard the Titanic\n",
    "\n",
    "**ticket:** Ticket number\n",
    "\n",
    "**fare:** Passenger fare\n",
    "\n",
    "**cabin:** Cabin number\n",
    "\n",
    "**embarked:** Port of Embarkation, C = Cherbourg, Q = Queenstown, S = Southampton"
   ]
  },
  {
   "cell_type": "markdown",
   "metadata": {},
   "source": [
    "## Step 2: Import the required libraries\n"
   ]
  },
  {
   "cell_type": "code",
   "execution_count": 1,
   "metadata": {},
   "outputs": [],
   "source": [
    "# Start Python Imports\n",
    "import math, time, random, datetime\n",
    "\n",
    "# Data Manipulation\n",
    "import numpy as np\n",
    "import pandas as pd\n",
    "\n",
    "# Visualization \n",
    "import matplotlib.pyplot as plt\n",
    "\n",
    "# Import Dependencies\n",
    "%matplotlib inline\n",
    "\n",
    "#import missingno\n",
    "import seaborn as sns\n",
    "plt.style.use('seaborn-whitegrid')\n",
    "\n",
    "# Preprocessing\n",
    "from sklearn.preprocessing import OneHotEncoder, LabelEncoder, label_binarize\n",
    "\n",
    "# Machine learning\n",
    "# import catboost\n",
    "from sklearn.model_selection import train_test_split\n",
    "from sklearn import model_selection, tree, preprocessing, metrics, linear_model\n",
    "from sklearn.svm import LinearSVC\n",
    "from sklearn.ensemble import GradientBoostingClassifier\n",
    "from sklearn.neighbors import KNeighborsClassifier\n",
    "from sklearn.naive_bayes import GaussianNB\n",
    "from sklearn.linear_model import LinearRegression, LogisticRegression, SGDClassifier\n",
    "from sklearn.tree import DecisionTreeClassifier\n",
    "# from catboost import CatBoostClassifier, Pool, cv\n",
    "\n",
    "# Let's be rebels and ignore warnings for now\n",
    "import warnings\n",
    "warnings.filterwarnings('ignore')"
   ]
  },
  {
   "cell_type": "code",
   "execution_count": 9,
   "metadata": {},
   "outputs": [],
   "source": [
    "from sklearn.compose import make_column_transformer"
   ]
  },
  {
   "cell_type": "markdown",
   "metadata": {},
   "source": [
    "## Step 3: Loading in the data\n",
    "Load \"train.csv\", \"test.csv\", \"gender_submission.csv\" into 3 variables as data frame"
   ]
  },
  {
   "cell_type": "code",
   "execution_count": 2,
   "metadata": {},
   "outputs": [],
   "source": [
    "# Import train & test data \n",
    "train_org = pd.read_csv('data/train.csv')\n",
    "test_org = pd.read_csv('data/test.csv')\n",
    "test_org_gender_submission = pd.read_csv('data/gender_submission.csv') # example of what a submission should look like"
   ]
  },
  {
   "cell_type": "code",
   "execution_count": 3,
   "metadata": {
    "scrolled": true
   },
   "outputs": [
    {
     "name": "stdout",
     "output_type": "stream",
     "text": [
      "\"train_org\" details :\n",
      "Shape \t:  (891, 12)\n",
      "Rows \t:  891\n",
      "Column \t:  12\n",
      "====================================\n",
      "\"test_org\" details :\n",
      "Shape \t:  (418, 11)\n",
      "Rows \t:  418\n",
      "Column \t:  11\n",
      "====================================\n",
      "\"test_org_gender_submission\" details :\n",
      "Shape \t:  (418, 2)\n",
      "Rows \t:  418\n",
      "Column \t:  2\n"
     ]
    }
   ],
   "source": [
    "# Identifying Number of Rows and Columns in \"train_org\", \"test_org\" and \"test_org_gender_submission\"\n",
    "print('\\\"train_org\\\" details :')\n",
    "print(\"Shape \\t: \", train_org.shape)\n",
    "print(\"Rows \\t: \", train_org.shape[0])\n",
    "print(\"Column \\t: \", train_org.shape[1])\n",
    "\n",
    "print('====================================')\n",
    "\n",
    "print('\\\"test_org\\\" details :')\n",
    "print(\"Shape \\t: \", test_org.shape)\n",
    "print(\"Rows \\t: \", test_org.shape[0])\n",
    "print(\"Column \\t: \", test_org.shape[1])\n",
    "\n",
    "print('====================================')\n",
    "\n",
    "print('\\\"test_org_gender_submission\\\" details :')\n",
    "print(\"Shape \\t: \", test_org_gender_submission.shape)\n",
    "print(\"Rows \\t: \", test_org_gender_submission.shape[0])\n",
    "print(\"Column \\t: \", test_org_gender_submission.shape[1])\n"
   ]
  },
  {
   "cell_type": "markdown",
   "metadata": {},
   "source": [
    "## Step 4: EDA"
   ]
  },
  {
   "cell_type": "markdown",
   "metadata": {},
   "source": [
    "##### 4.1) Copy \"train_org\" into \"df_train\" with required columns\n",
    "Ignore the columns which won't effect the \"Survived\" column\n",
    "Ignore columns are:\n",
    "1. \"PassengerId\" : It is unique id number given to passanger and it won't tell the possibility of the passanger is Survived. But still I will keep this column for refernece to extract the required data.\n",
    "2. \"Name\": Based on the name we can not decide the passanger is Survived or not. Eventhough the name tells us whether the passanger is male or female by \"Mr.\", \"Mrs.\", \"Miss.\", we ignore this because of this information is available in Sex column.\n",
    "3. \"Ticket\": It tells us the passanger is beloning to which \"Class\", \"Cabin\" and \"Seat\", but this information is available in \"Pclass\", \"Cabin\", \"Embarked\" columns.\n",
    "4. \"Fare\": It tells only the amount the passanger paid to travel. This won't effect the target column."
   ]
  },
  {
   "cell_type": "code",
   "execution_count": 4,
   "metadata": {},
   "outputs": [],
   "source": [
    "# 1) Copy \"train_org\" into \"df_train\"\n",
    "df_train = train_org.drop(columns=['Name', 'Ticket', 'Fare'])"
   ]
  },
  {
   "cell_type": "markdown",
   "metadata": {},
   "source": [
    "##### 4.2) Identifying Number of Rows and Columns in \"df_train\""
   ]
  },
  {
   "cell_type": "code",
   "execution_count": 5,
   "metadata": {},
   "outputs": [
    {
     "name": "stdout",
     "output_type": "stream",
     "text": [
      "\"df_train\" details :\n",
      "Shape \t:  (891, 9)\n",
      "Rows \t:  891\n",
      "Column \t:  9\n"
     ]
    }
   ],
   "source": [
    "# 2) Identifying Number of Rows and Columns in \"df_train\"\n",
    "print('\\\"df_train\\\" details :')\n",
    "print(\"Shape \\t: \", df_train.shape)\n",
    "print(\"Rows \\t: \", df_train.shape[0])\n",
    "print(\"Column \\t: \", df_train.shape[1])"
   ]
  },
  {
   "cell_type": "markdown",
   "metadata": {},
   "source": [
    "##### 4.3) Identifying Missing Values in each Column"
   ]
  },
  {
   "cell_type": "code",
   "execution_count": 6,
   "metadata": {},
   "outputs": [
    {
     "data": {
      "text/plain": [
       "<matplotlib.axes._subplots.AxesSubplot at 0xe0701058c8>"
      ]
     },
     "execution_count": 6,
     "metadata": {},
     "output_type": "execute_result"
    },
    {
     "data": {
      "image/png": "[encoded data removed]",
      "text/plain": [
       "<Figure size 432x288 with 1 Axes>"
      ]
     },
     "metadata": {},
     "output_type": "display_data"
    }
   ],
   "source": [
    "sns.heatmap(df_train.isnull(), yticklabels=False, cbar=False, cmap='viridis')"
   ]
  },
  {
   "cell_type": "code",
   "execution_count": 7,
   "metadata": {},
   "outputs": [
    {
     "name": "stdout",
     "output_type": "stream",
     "text": [
      "<class 'pandas.core.frame.DataFrame'>\n",
      "RangeIndex: 891 entries, 0 to 890\n",
      "Data columns (total 9 columns):\n",
      " #   Column       Non-Null Count  Dtype  \n",
      "---  ------       --------------  -----  \n",
      " 0   PassengerId  891 non-null    int64  \n",
      " 1   Survived     891 non-null    int64  \n",
      " 2   Pclass       891 non-null    int64  \n",
      " 3   Sex          891 non-null    object \n",
      " 4   Age          714 non-null    float64\n",
      " 5   SibSp        891 non-null    int64  \n",
      " 6   Parch        891 non-null    int64  \n",
      " 7   Cabin        204 non-null    object \n",
      " 8   Embarked     889 non-null    object \n",
      "dtypes: float64(1), int64(5), object(3)\n",
      "memory usage: 62.8+ KB\n"
     ]
    }
   ],
   "source": [
    "df_train.info()"
   ]
  },
  {
   "cell_type": "code",
   "execution_count": 8,
   "metadata": {
    "scrolled": true
   },
   "outputs": [
    {
     "name": "stdout",
     "output_type": "stream",
     "text": [
      "Missing values are :\n",
      "Age \t :  177\n",
      "Cabin \t :  687\n",
      "Embarked :  2\n"
     ]
    }
   ],
   "source": [
    "print(\"Missing values are :\")\n",
    "print('Age \\t : ', df_train.Age.isnull().sum())\n",
    "print('Cabin \\t : ', df_train.Cabin.isnull().sum())\n",
    "print('Embarked : ', df_train.Embarked.isnull().sum())"
   ]
  },
  {
   "cell_type": "markdown",
   "metadata": {},
   "source": [
    "##### 4.4) Replacing Missing values"
   ]
  },
  {
   "cell_type": "markdown",
   "metadata": {},
   "source": [
    "##### 4.4.1) Replacinng \"Embarked\" column"
   ]
  },
  {
   "cell_type": "code",
   "execution_count": 10,
   "metadata": {},
   "outputs": [
    {
     "data": {
      "text/html": [
       "<div>\n",
       "<style scoped>\n",
       "    .dataframe tbody tr th:only-of-type {\n",
       "        vertical-align: middle;\n",
       "    }\n",
       "\n",
       "    .dataframe tbody tr th {\n",
       "        vertical-align: top;\n",
       "    }\n",
       "\n",
       "    .dataframe thead th {\n",
       "        text-align: right;\n",
       "    }\n",
       "</style>\n",
       "<table border=\"1\" class=\"dataframe\">\n",
       "  <thead>\n",
       "    <tr style=\"text-align: right;\">\n",
       "      <th></th>\n",
       "      <th>PassengerId</th>\n",
       "      <th>Survived</th>\n",
       "      <th>Pclass</th>\n",
       "      <th>Sex</th>\n",
       "      <th>Age</th>\n",
       "      <th>SibSp</th>\n",
       "      <th>Parch</th>\n",
       "      <th>Cabin</th>\n",
       "      <th>Embarked</th>\n",
       "    </tr>\n",
       "  </thead>\n",
       "  <tbody>\n",
       "    <tr>\n",
       "      <th>61</th>\n",
       "      <td>62</td>\n",
       "      <td>1</td>\n",
       "      <td>1</td>\n",
       "      <td>female</td>\n",
       "      <td>38.0</td>\n",
       "      <td>0</td>\n",
       "      <td>0</td>\n",
       "      <td>B28</td>\n",
       "      <td>NaN</td>\n",
       "    </tr>\n",
       "    <tr>\n",
       "      <th>829</th>\n",
       "      <td>830</td>\n",
       "      <td>1</td>\n",
       "      <td>1</td>\n",
       "      <td>female</td>\n",
       "      <td>62.0</td>\n",
       "      <td>0</td>\n",
       "      <td>0</td>\n",
       "      <td>B28</td>\n",
       "      <td>NaN</td>\n",
       "    </tr>\n",
       "  </tbody>\n",
       "</table>\n",
       "</div>"
      ],
      "text/plain": [
       "     PassengerId  Survived  Pclass     Sex   Age  SibSp  Parch Cabin Embarked\n",
       "61            62         1       1  female  38.0      0      0   B28      NaN\n",
       "829          830         1       1  female  62.0      0      0   B28      NaN"
      ]
     },
     "execution_count": 10,
     "metadata": {},
     "output_type": "execute_result"
    }
   ],
   "source": [
    "df_train[df_train.Embarked.isnull()]"
   ]
  },
  {
   "cell_type": "code",
   "execution_count": 15,
   "metadata": {
    "scrolled": false
   },
   "outputs": [
    {
     "data": {
      "text/html": [
       "<div>\n",
       "<style scoped>\n",
       "    .dataframe tbody tr th:only-of-type {\n",
       "        vertical-align: middle;\n",
       "    }\n",
       "\n",
       "    .dataframe tbody tr th {\n",
       "        vertical-align: top;\n",
       "    }\n",
       "\n",
       "    .dataframe thead th {\n",
       "        text-align: right;\n",
       "    }\n",
       "</style>\n",
       "<table border=\"1\" class=\"dataframe\">\n",
       "  <thead>\n",
       "    <tr style=\"text-align: right;\">\n",
       "      <th></th>\n",
       "      <th>PassengerId</th>\n",
       "      <th>Survived</th>\n",
       "      <th>Pclass</th>\n",
       "      <th>Sex</th>\n",
       "      <th>Age</th>\n",
       "      <th>SibSp</th>\n",
       "      <th>Parch</th>\n",
       "      <th>Cabin</th>\n",
       "      <th>Embarked</th>\n",
       "    </tr>\n",
       "  </thead>\n",
       "  <tbody>\n",
       "    <tr>\n",
       "      <th>11</th>\n",
       "      <td>12</td>\n",
       "      <td>1</td>\n",
       "      <td>1</td>\n",
       "      <td>female</td>\n",
       "      <td>58.0</td>\n",
       "      <td>0</td>\n",
       "      <td>0</td>\n",
       "      <td>C103</td>\n",
       "      <td>S</td>\n",
       "    </tr>\n",
       "    <tr>\n",
       "      <th>61</th>\n",
       "      <td>62</td>\n",
       "      <td>1</td>\n",
       "      <td>1</td>\n",
       "      <td>female</td>\n",
       "      <td>38.0</td>\n",
       "      <td>0</td>\n",
       "      <td>0</td>\n",
       "      <td>B28</td>\n",
       "      <td>NaN</td>\n",
       "    </tr>\n",
       "    <tr>\n",
       "      <th>177</th>\n",
       "      <td>178</td>\n",
       "      <td>0</td>\n",
       "      <td>1</td>\n",
       "      <td>female</td>\n",
       "      <td>50.0</td>\n",
       "      <td>0</td>\n",
       "      <td>0</td>\n",
       "      <td>C49</td>\n",
       "      <td>C</td>\n",
       "    </tr>\n",
       "    <tr>\n",
       "      <th>194</th>\n",
       "      <td>195</td>\n",
       "      <td>1</td>\n",
       "      <td>1</td>\n",
       "      <td>female</td>\n",
       "      <td>44.0</td>\n",
       "      <td>0</td>\n",
       "      <td>0</td>\n",
       "      <td>B4</td>\n",
       "      <td>C</td>\n",
       "    </tr>\n",
       "    <tr>\n",
       "      <th>195</th>\n",
       "      <td>196</td>\n",
       "      <td>1</td>\n",
       "      <td>1</td>\n",
       "      <td>female</td>\n",
       "      <td>58.0</td>\n",
       "      <td>0</td>\n",
       "      <td>0</td>\n",
       "      <td>B80</td>\n",
       "      <td>C</td>\n",
       "    </tr>\n",
       "    <tr>\n",
       "      <th>337</th>\n",
       "      <td>338</td>\n",
       "      <td>1</td>\n",
       "      <td>1</td>\n",
       "      <td>female</td>\n",
       "      <td>41.0</td>\n",
       "      <td>0</td>\n",
       "      <td>0</td>\n",
       "      <td>E40</td>\n",
       "      <td>C</td>\n",
       "    </tr>\n",
       "    <tr>\n",
       "      <th>380</th>\n",
       "      <td>381</td>\n",
       "      <td>1</td>\n",
       "      <td>1</td>\n",
       "      <td>female</td>\n",
       "      <td>42.0</td>\n",
       "      <td>0</td>\n",
       "      <td>0</td>\n",
       "      <td>NaN</td>\n",
       "      <td>C</td>\n",
       "    </tr>\n",
       "    <tr>\n",
       "      <th>609</th>\n",
       "      <td>610</td>\n",
       "      <td>1</td>\n",
       "      <td>1</td>\n",
       "      <td>female</td>\n",
       "      <td>40.0</td>\n",
       "      <td>0</td>\n",
       "      <td>0</td>\n",
       "      <td>C125</td>\n",
       "      <td>S</td>\n",
       "    </tr>\n",
       "    <tr>\n",
       "      <th>716</th>\n",
       "      <td>717</td>\n",
       "      <td>1</td>\n",
       "      <td>1</td>\n",
       "      <td>female</td>\n",
       "      <td>38.0</td>\n",
       "      <td>0</td>\n",
       "      <td>0</td>\n",
       "      <td>C45</td>\n",
       "      <td>C</td>\n",
       "    </tr>\n",
       "    <tr>\n",
       "      <th>796</th>\n",
       "      <td>797</td>\n",
       "      <td>1</td>\n",
       "      <td>1</td>\n",
       "      <td>female</td>\n",
       "      <td>49.0</td>\n",
       "      <td>0</td>\n",
       "      <td>0</td>\n",
       "      <td>D17</td>\n",
       "      <td>S</td>\n",
       "    </tr>\n",
       "    <tr>\n",
       "      <th>829</th>\n",
       "      <td>830</td>\n",
       "      <td>1</td>\n",
       "      <td>1</td>\n",
       "      <td>female</td>\n",
       "      <td>62.0</td>\n",
       "      <td>0</td>\n",
       "      <td>0</td>\n",
       "      <td>B28</td>\n",
       "      <td>NaN</td>\n",
       "    </tr>\n",
       "    <tr>\n",
       "      <th>862</th>\n",
       "      <td>863</td>\n",
       "      <td>1</td>\n",
       "      <td>1</td>\n",
       "      <td>female</td>\n",
       "      <td>48.0</td>\n",
       "      <td>0</td>\n",
       "      <td>0</td>\n",
       "      <td>D17</td>\n",
       "      <td>S</td>\n",
       "    </tr>\n",
       "  </tbody>\n",
       "</table>\n",
       "</div>"
      ],
      "text/plain": [
       "     PassengerId  Survived  Pclass     Sex   Age  SibSp  Parch Cabin Embarked\n",
       "11            12         1       1  female  58.0      0      0  C103        S\n",
       "61            62         1       1  female  38.0      0      0   B28      NaN\n",
       "177          178         0       1  female  50.0      0      0   C49        C\n",
       "194          195         1       1  female  44.0      0      0    B4        C\n",
       "195          196         1       1  female  58.0      0      0   B80        C\n",
       "337          338         1       1  female  41.0      0      0   E40        C\n",
       "380          381         1       1  female  42.0      0      0   NaN        C\n",
       "609          610         1       1  female  40.0      0      0  C125        S\n",
       "716          717         1       1  female  38.0      0      0   C45        C\n",
       "796          797         1       1  female  49.0      0      0   D17        S\n",
       "829          830         1       1  female  62.0      0      0   B28      NaN\n",
       "862          863         1       1  female  48.0      0      0   D17        S"
      ]
     },
     "execution_count": 15,
     "metadata": {},
     "output_type": "execute_result"
    }
   ],
   "source": [
    "df_train.loc[\n",
    "    (df_train.Pclass==1) &\n",
    "    (df_train.Sex=='female') &\n",
    "    (df_train.Age>37) & (df_train.Age<63) &\n",
    "    (df_train.SibSp==0) &\n",
    "    (df_train.Parch==0)]"
   ]
  },
  {
   "cell_type": "markdown",
   "metadata": {},
   "source": [
    "*Observation:*  \n",
    "By observing the above result we can repalce two missing values by 'C'"
   ]
  },
  {
   "cell_type": "code",
   "execution_count": 16,
   "metadata": {},
   "outputs": [],
   "source": [
    "df_train.loc[61,'Embarked']='C'\n",
    "df_train.loc[829,'Embarked']='C'"
   ]
  },
  {
   "cell_type": "code",
   "execution_count": 17,
   "metadata": {},
   "outputs": [
    {
     "name": "stdout",
     "output_type": "stream",
     "text": [
      "Missing values in Embarked column is :  0\n"
     ]
    }
   ],
   "source": [
    "print(\"Missing values in Embarked column is : \", df_train.Embarked.isnull().sum())"
   ]
  },
  {
   "cell_type": "markdown",
   "metadata": {},
   "source": [
    "##### 4.4.2) Replacinng \"Cabin\" column"
   ]
  },
  {
   "cell_type": "code",
   "execution_count": 18,
   "metadata": {
    "scrolled": true
   },
   "outputs": [
    {
     "data": {
      "text/html": [
       "<div>\n",
       "<style scoped>\n",
       "    .dataframe tbody tr th:only-of-type {\n",
       "        vertical-align: middle;\n",
       "    }\n",
       "\n",
       "    .dataframe tbody tr th {\n",
       "        vertical-align: top;\n",
       "    }\n",
       "\n",
       "    .dataframe thead th {\n",
       "        text-align: right;\n",
       "    }\n",
       "</style>\n",
       "<table border=\"1\" class=\"dataframe\">\n",
       "  <thead>\n",
       "    <tr style=\"text-align: right;\">\n",
       "      <th></th>\n",
       "      <th>PassengerId</th>\n",
       "      <th>Survived</th>\n",
       "      <th>Pclass</th>\n",
       "      <th>Sex</th>\n",
       "      <th>Age</th>\n",
       "      <th>SibSp</th>\n",
       "      <th>Parch</th>\n",
       "      <th>Cabin</th>\n",
       "      <th>Embarked</th>\n",
       "    </tr>\n",
       "  </thead>\n",
       "  <tbody>\n",
       "    <tr>\n",
       "      <th>0</th>\n",
       "      <td>1</td>\n",
       "      <td>0</td>\n",
       "      <td>3</td>\n",
       "      <td>male</td>\n",
       "      <td>22.0</td>\n",
       "      <td>1</td>\n",
       "      <td>0</td>\n",
       "      <td>NaN</td>\n",
       "      <td>S</td>\n",
       "    </tr>\n",
       "    <tr>\n",
       "      <th>2</th>\n",
       "      <td>3</td>\n",
       "      <td>1</td>\n",
       "      <td>3</td>\n",
       "      <td>female</td>\n",
       "      <td>26.0</td>\n",
       "      <td>0</td>\n",
       "      <td>0</td>\n",
       "      <td>NaN</td>\n",
       "      <td>S</td>\n",
       "    </tr>\n",
       "    <tr>\n",
       "      <th>4</th>\n",
       "      <td>5</td>\n",
       "      <td>0</td>\n",
       "      <td>3</td>\n",
       "      <td>male</td>\n",
       "      <td>35.0</td>\n",
       "      <td>0</td>\n",
       "      <td>0</td>\n",
       "      <td>NaN</td>\n",
       "      <td>S</td>\n",
       "    </tr>\n",
       "    <tr>\n",
       "      <th>5</th>\n",
       "      <td>6</td>\n",
       "      <td>0</td>\n",
       "      <td>3</td>\n",
       "      <td>male</td>\n",
       "      <td>NaN</td>\n",
       "      <td>0</td>\n",
       "      <td>0</td>\n",
       "      <td>NaN</td>\n",
       "      <td>Q</td>\n",
       "    </tr>\n",
       "    <tr>\n",
       "      <th>7</th>\n",
       "      <td>8</td>\n",
       "      <td>0</td>\n",
       "      <td>3</td>\n",
       "      <td>male</td>\n",
       "      <td>2.0</td>\n",
       "      <td>3</td>\n",
       "      <td>1</td>\n",
       "      <td>NaN</td>\n",
       "      <td>S</td>\n",
       "    </tr>\n",
       "    <tr>\n",
       "      <th>...</th>\n",
       "      <td>...</td>\n",
       "      <td>...</td>\n",
       "      <td>...</td>\n",
       "      <td>...</td>\n",
       "      <td>...</td>\n",
       "      <td>...</td>\n",
       "      <td>...</td>\n",
       "      <td>...</td>\n",
       "      <td>...</td>\n",
       "    </tr>\n",
       "    <tr>\n",
       "      <th>884</th>\n",
       "      <td>885</td>\n",
       "      <td>0</td>\n",
       "      <td>3</td>\n",
       "      <td>male</td>\n",
       "      <td>25.0</td>\n",
       "      <td>0</td>\n",
       "      <td>0</td>\n",
       "      <td>NaN</td>\n",
       "      <td>S</td>\n",
       "    </tr>\n",
       "    <tr>\n",
       "      <th>885</th>\n",
       "      <td>886</td>\n",
       "      <td>0</td>\n",
       "      <td>3</td>\n",
       "      <td>female</td>\n",
       "      <td>39.0</td>\n",
       "      <td>0</td>\n",
       "      <td>5</td>\n",
       "      <td>NaN</td>\n",
       "      <td>Q</td>\n",
       "    </tr>\n",
       "    <tr>\n",
       "      <th>886</th>\n",
       "      <td>887</td>\n",
       "      <td>0</td>\n",
       "      <td>2</td>\n",
       "      <td>male</td>\n",
       "      <td>27.0</td>\n",
       "      <td>0</td>\n",
       "      <td>0</td>\n",
       "      <td>NaN</td>\n",
       "      <td>S</td>\n",
       "    </tr>\n",
       "    <tr>\n",
       "      <th>888</th>\n",
       "      <td>889</td>\n",
       "      <td>0</td>\n",
       "      <td>3</td>\n",
       "      <td>female</td>\n",
       "      <td>NaN</td>\n",
       "      <td>1</td>\n",
       "      <td>2</td>\n",
       "      <td>NaN</td>\n",
       "      <td>S</td>\n",
       "    </tr>\n",
       "    <tr>\n",
       "      <th>890</th>\n",
       "      <td>891</td>\n",
       "      <td>0</td>\n",
       "      <td>3</td>\n",
       "      <td>male</td>\n",
       "      <td>32.0</td>\n",
       "      <td>0</td>\n",
       "      <td>0</td>\n",
       "      <td>NaN</td>\n",
       "      <td>Q</td>\n",
       "    </tr>\n",
       "  </tbody>\n",
       "</table>\n",
       "<p>687 rows × 9 columns</p>\n",
       "</div>"
      ],
      "text/plain": [
       "     PassengerId  Survived  Pclass     Sex   Age  SibSp  Parch Cabin Embarked\n",
       "0              1         0       3    male  22.0      1      0   NaN        S\n",
       "2              3         1       3  female  26.0      0      0   NaN        S\n",
       "4              5         0       3    male  35.0      0      0   NaN        S\n",
       "5              6         0       3    male   NaN      0      0   NaN        Q\n",
       "7              8         0       3    male   2.0      3      1   NaN        S\n",
       "..           ...       ...     ...     ...   ...    ...    ...   ...      ...\n",
       "884          885         0       3    male  25.0      0      0   NaN        S\n",
       "885          886         0       3  female  39.0      0      5   NaN        Q\n",
       "886          887         0       2    male  27.0      0      0   NaN        S\n",
       "888          889         0       3  female   NaN      1      2   NaN        S\n",
       "890          891         0       3    male  32.0      0      0   NaN        Q\n",
       "\n",
       "[687 rows x 9 columns]"
      ]
     },
     "execution_count": 18,
     "metadata": {},
     "output_type": "execute_result"
    }
   ],
   "source": [
    "df_train[df_train.Cabin.isnull()]"
   ]
  },
  {
   "cell_type": "markdown",
   "metadata": {},
   "source": [
    "*Observation:*  \n",
    "It has so many missing values and we can not make use for the target values. In this case, we just simply drop the entire column."
   ]
  },
  {
   "cell_type": "code",
   "execution_count": 19,
   "metadata": {},
   "outputs": [],
   "source": [
    "# Droping the \"Cabin\" column\n",
    "df_train.drop('Cabin', axis=1, inplace=True)"
   ]
  },
  {
   "cell_type": "markdown",
   "metadata": {},
   "source": [
    "##### 4.4.3) Replacinng \"Age\" column"
   ]
  },
  {
   "cell_type": "markdown",
   "metadata": {},
   "source": [
    "*Note:*  \n",
    "I hope Age values might depend on \"Pclass\", \"Sex\", \"Emabarked\", so I try to replace null values with average Age values to corresponding \"Pclass\", \"Sex\", \"Emabarked\"."
   ]
  },
  {
   "cell_type": "code",
   "execution_count": 20,
   "metadata": {},
   "outputs": [
    {
     "name": "stdout",
     "output_type": "stream",
     "text": [
      "List of unique values in 'Pclass', 'Sex', 'Embarked'\n",
      "\n",
      "Pclass values \t: [3, 1, 2]\n",
      "Sex values \t: ['male', 'female']\n",
      "Embarked values : ['S', 'C', 'Q']\n"
     ]
    }
   ],
   "source": [
    "print(\"List of unique values in \\'Pclass\\', \\'Sex\\', \\'Embarked\\'\\n\")\n",
    "print(\"Pclass values \\t:\", list(df_train.Pclass.unique()))\n",
    "print(\"Sex values \\t:\", list(df_train.Sex.unique()))\n",
    "print(\"Embarked values :\", list(df_train.Embarked.unique()))"
   ]
  },
  {
   "cell_type": "code",
   "execution_count": 30,
   "metadata": {},
   "outputs": [],
   "source": [
    "# Extracting the data from df_train in which Age column values are not null\n",
    "df_train_notnull = df_train[df_train.Age.notnull()]\n",
    "\n",
    "# Extracting the data from df_train in which Age column values are null\n",
    "df_train_null = df_train[df_train.Age.isnull()]"
   ]
  },
  {
   "cell_type": "code",
   "execution_count": 240,
   "metadata": {},
   "outputs": [],
   "source": [
    "# Creating a function to find and replace the mean of Age values based on \"Pclass\", \"Embarked\" and \"Sex\"\n",
    "def replace_age(Pclass, Sex, Embarked):\n",
    "    \n",
    "    # Storing conditions based on Pclass, Sex, Embarked\n",
    "    R1 = (df_train_notnull.Pclass==Pclass)\n",
    "    R2 = (df_train_notnull.Sex==Sex)\n",
    "    R3 = (df_train_notnull.Embarked==Embarked)\n",
    "    \n",
    "    # Generating a Rule based on R1, R2, and R3\n",
    "    Rule = pd.Series(np.full(df_test_notnull.shape[0],1))\n",
    "    if R1.sum()>0:\n",
    "        Rule = Rule & R1\n",
    "        if R2.sum()>0:\n",
    "            Rule = Rule & R2\n",
    "            if R3.sum()>0:\n",
    "                Rule = Rule & R3\n",
    "        elif R3.sum()>0:\n",
    "            Rule = Rule & R3\n",
    "    elif R2.sum()>0:\n",
    "        Rule = Rule & R2\n",
    "        if R3.sum()>0:\n",
    "            Rule = Rule & R3\n",
    "    elif R3.sum()>0:\n",
    "        Rule = Rule & R3\n",
    "    else:\n",
    "        return\n",
    "    \n",
    "    # Finding mean of the age column based on Pclass, Sex, and Embarked\n",
    "    age_mean = round(df_train_notnull[Rule].Age.mean())\n",
    "    print('Mean of Pclass:{}, Sex:{}, Embarked:{} is {}'.format(Pclass, Sex, Embarked, age_mean))\n",
    "    \n",
    "    # Replacing \"Age null values\" with \"Age mean values\" based on Pclass, Sex, and Embarked\n",
    "    for index, row in df_train.iterrows():\n",
    "        if (np.isnan(row['Age'])) & (row['Pclass']==Pclass) & (row['Sex']==Sex) & (row['Embarked']==Embarked):\n",
    "            df_train.loc[index, 'Age'] = age_mean"
   ]
  },
  {
   "cell_type": "code",
   "execution_count": 34,
   "metadata": {
    "scrolled": true
   },
   "outputs": [
    {
     "name": "stdout",
     "output_type": "stream",
     "text": [
      "Mean of Pclass:3, Sex:male, Embarked:S is 27\n",
      "Mean of Pclass:3, Sex:male, Embarked:C is 25\n",
      "Mean of Pclass:3, Sex:male, Embarked:Q is 28\n",
      "Mean of Pclass:3, Sex:female, Embarked:S is 23\n",
      "Mean of Pclass:3, Sex:female, Embarked:C is 14\n",
      "Mean of Pclass:3, Sex:female, Embarked:Q is 23\n",
      "Mean of Pclass:1, Sex:male, Embarked:S is 42\n",
      "Mean of Pclass:1, Sex:male, Embarked:C is 40\n",
      "Mean of Pclass:1, Sex:male, Embarked:Q is 44\n",
      "Mean of Pclass:1, Sex:female, Embarked:S is 33\n",
      "Mean of Pclass:1, Sex:female, Embarked:C is 37\n",
      "Mean of Pclass:1, Sex:female, Embarked:Q is 33\n",
      "Mean of Pclass:2, Sex:male, Embarked:S is 31\n",
      "Mean of Pclass:2, Sex:male, Embarked:C is 26\n",
      "Mean of Pclass:2, Sex:male, Embarked:Q is 57\n",
      "Mean of Pclass:2, Sex:female, Embarked:S is 30\n",
      "Mean of Pclass:2, Sex:female, Embarked:C is 19\n",
      "Mean of Pclass:2, Sex:female, Embarked:Q is 30\n"
     ]
    }
   ],
   "source": [
    "# Run the \"replace_age()\" function\n",
    "for Pclass in list(df_train.Pclass.unique()):\n",
    "    for Sex in list(df_train.Sex.unique()):\n",
    "        for Embarked in list(df_train.Embarked.unique()):\n",
    "            if bool(((df_train_null.Pclass==Pclass) & (df_train_null.Sex==Sex) & (df_train_null.Embarked==Embarked)).sum()):\n",
    "                # Run the function when the above Condition is true only\n",
    "                replace_age(Pclass, Sex, Embarked)"
   ]
  },
  {
   "cell_type": "code",
   "execution_count": 35,
   "metadata": {},
   "outputs": [
    {
     "data": {
      "text/plain": [
       "0"
      ]
     },
     "execution_count": 35,
     "metadata": {},
     "output_type": "execute_result"
    }
   ],
   "source": [
    "df_train.Age.isnull().sum()"
   ]
  },
  {
   "cell_type": "code",
   "execution_count": 36,
   "metadata": {
    "scrolled": true
   },
   "outputs": [
    {
     "data": {
      "text/plain": [
       "<matplotlib.axes._subplots.AxesSubplot at 0xe076d63148>"
      ]
     },
     "execution_count": 36,
     "metadata": {},
     "output_type": "execute_result"
    },
    {
     "data": {
      "image/png": "[encoded data removed]",
      "text/plain": [
       "<Figure size 432x288 with 1 Axes>"
      ]
     },
     "metadata": {},
     "output_type": "display_data"
    }
   ],
   "source": [
    "# Cross checking the null values in the columns of data frame by Visualizing \n",
    "sns.heatmap(df_train.isnull(), yticklabels=False, cbar=False, cmap='viridis')"
   ]
  },
  {
   "cell_type": "code",
   "execution_count": 37,
   "metadata": {
    "scrolled": true
   },
   "outputs": [
    {
     "name": "stdout",
     "output_type": "stream",
     "text": [
      "<class 'pandas.core.frame.DataFrame'>\n",
      "RangeIndex: 891 entries, 0 to 890\n",
      "Data columns (total 8 columns):\n",
      " #   Column       Non-Null Count  Dtype  \n",
      "---  ------       --------------  -----  \n",
      " 0   PassengerId  891 non-null    int64  \n",
      " 1   Survived     891 non-null    int64  \n",
      " 2   Pclass       891 non-null    int64  \n",
      " 3   Sex          891 non-null    object \n",
      " 4   Age          891 non-null    float64\n",
      " 5   SibSp        891 non-null    int64  \n",
      " 6   Parch        891 non-null    int64  \n",
      " 7   Embarked     891 non-null    object \n",
      "dtypes: float64(1), int64(5), object(2)\n",
      "memory usage: 55.8+ KB\n"
     ]
    }
   ],
   "source": [
    "df_train.info()"
   ]
  },
  {
   "cell_type": "markdown",
   "metadata": {},
   "source": [
    "*Observation:*  \n",
    "Observe that no column values are null."
   ]
  },
  {
   "cell_type": "markdown",
   "metadata": {},
   "source": [
    "##### 4.4.4) Visualizing the survived passangers"
   ]
  },
  {
   "cell_type": "code",
   "execution_count": 38,
   "metadata": {
    "scrolled": true
   },
   "outputs": [
    {
     "data": {
      "text/plain": [
       "<matplotlib.axes._subplots.AxesSubplot at 0xe076da97c8>"
      ]
     },
     "execution_count": 38,
     "metadata": {},
     "output_type": "execute_result"
    },
    {
     "data": {
      "image/png": "[encoded data removed]",
      "text/plain": [
       "<Figure size 432x288 with 1 Axes>"
      ]
     },
     "metadata": {},
     "output_type": "display_data"
    }
   ],
   "source": [
    "# Number of survived passengers\n",
    "sns.countplot(x='Survived', data=df_train, palette='RdBu_r')"
   ]
  },
  {
   "cell_type": "code",
   "execution_count": 39,
   "metadata": {},
   "outputs": [
    {
     "data": {
      "text/plain": [
       "<matplotlib.axes._subplots.AxesSubplot at 0xe076de9cc8>"
      ]
     },
     "execution_count": 39,
     "metadata": {},
     "output_type": "execute_result"
    },
    {
     "data": {
      "image/png": "[encoded data removed]",
      "text/plain": [
       "<Figure size 432x288 with 1 Axes>"
      ]
     },
     "metadata": {},
     "output_type": "display_data"
    }
   ],
   "source": [
    "# Number of survived passengers in \"PClass\"\n",
    "sns.countplot(x='Survived', hue='Pclass', data=df_train, palette='rainbow')"
   ]
  },
  {
   "cell_type": "code",
   "execution_count": 40,
   "metadata": {},
   "outputs": [
    {
     "data": {
      "text/plain": [
       "<matplotlib.axes._subplots.AxesSubplot at 0xe076e4a708>"
      ]
     },
     "execution_count": 40,
     "metadata": {},
     "output_type": "execute_result"
    },
    {
     "data": {
      "image/png": "[encoded data removed]",
      "text/plain": [
       "<Figure size 432x288 with 1 Axes>"
      ]
     },
     "metadata": {},
     "output_type": "display_data"
    }
   ],
   "source": [
    "# Number of survived passengers in \"Sex\"\n",
    "sns.countplot(x='Survived', hue='Sex', data=df_train, palette='rainbow')"
   ]
  },
  {
   "cell_type": "code",
   "execution_count": 41,
   "metadata": {},
   "outputs": [
    {
     "data": {
      "text/plain": [
       "<matplotlib.axes._subplots.AxesSubplot at 0xe076ebd208>"
      ]
     },
     "execution_count": 41,
     "metadata": {},
     "output_type": "execute_result"
    },
    {
     "data": {
      "image/png": "[encoded data removed]",
      "text/plain": [
       "<Figure size 432x288 with 1 Axes>"
      ]
     },
     "metadata": {},
     "output_type": "display_data"
    }
   ],
   "source": [
    "# Number of survived passengers in \"Age\"\n",
    "sns.countplot(x='Survived', hue='Age', data=df_train, palette='rainbow')"
   ]
  },
  {
   "cell_type": "code",
   "execution_count": null,
   "metadata": {},
   "outputs": [],
   "source": [
    "# Counting number of passengers \"Age\" column wise using bins\n",
    "sns.distplot(df_train['Age'].dropna(), kde=False, color='darkred', bins=40)"
   ]
  },
  {
   "cell_type": "code",
   "execution_count": 42,
   "metadata": {
    "scrolled": true
   },
   "outputs": [
    {
     "data": {
      "text/plain": [
       "<matplotlib.axes._subplots.AxesSubplot at 0xe0771fed08>"
      ]
     },
     "execution_count": 42,
     "metadata": {},
     "output_type": "execute_result"
    },
    {
     "data": {
      "image/png": "[encoded data removed]",
      "text/plain": [
       "<Figure size 432x288 with 1 Axes>"
      ]
     },
     "metadata": {},
     "output_type": "display_data"
    }
   ],
   "source": [
    "# Number of survived passengers in \"SibSp\"\n",
    "sns.countplot(x='Survived', hue='SibSp', data=df_train, palette='rainbow')"
   ]
  },
  {
   "cell_type": "code",
   "execution_count": 43,
   "metadata": {},
   "outputs": [
    {
     "data": {
      "text/plain": [
       "<matplotlib.axes._subplots.AxesSubplot at 0xe0775106c8>"
      ]
     },
     "execution_count": 43,
     "metadata": {},
     "output_type": "execute_result"
    },
    {
     "data": {
      "image/png": "[encoded data removed]",
      "text/plain": [
       "<Figure size 432x288 with 1 Axes>"
      ]
     },
     "metadata": {},
     "output_type": "display_data"
    }
   ],
   "source": [
    "# Number of survived passengers in \"Parch\"\n",
    "sns.countplot(x='Survived', hue='Parch', data=df_train, palette='rainbow')"
   ]
  },
  {
   "cell_type": "code",
   "execution_count": 44,
   "metadata": {},
   "outputs": [
    {
     "data": {
      "text/plain": [
       "<matplotlib.axes._subplots.AxesSubplot at 0xe0774ea908>"
      ]
     },
     "execution_count": 44,
     "metadata": {},
     "output_type": "execute_result"
    },
    {
     "data": {
      "image/png": "[encoded data removed]",
      "text/plain": [
       "<Figure size 432x288 with 1 Axes>"
      ]
     },
     "metadata": {},
     "output_type": "display_data"
    }
   ],
   "source": [
    "# Number of survived passengers in \"Embarked\"\n",
    "sns.countplot(x='Survived', hue='Embarked', data=df_train, palette='rainbow')"
   ]
  },
  {
   "cell_type": "markdown",
   "metadata": {},
   "source": [
    "##### 4.4.5) Identifying Numerical columns and Categorical Columns and Seperate them"
   ]
  },
  {
   "cell_type": "markdown",
   "metadata": {},
   "source": [
    "##### Observations:\n",
    "###### Numerical Columns:  \n",
    "    1. PassengerId\n",
    "    2. Survived\n",
    "    3. Age\n",
    "    4. SibSp\n",
    "    5. Parch\n",
    "###### Categorical Columns:\n",
    "    1. Pclass\n",
    "    2. Sex\n",
    "    3. Cabin\n",
    "    4. Embarked"
   ]
  },
  {
   "cell_type": "code",
   "execution_count": 45,
   "metadata": {},
   "outputs": [],
   "source": [
    "df_train_numericals = df_train[['PassengerId', 'Survived', 'Age', 'SibSp', 'Parch']]\n",
    "df_train_categoricals = df_train[['Pclass', 'Sex', 'Embarked']]"
   ]
  },
  {
   "cell_type": "markdown",
   "metadata": {},
   "source": [
    "##### 4.4.6) Converting categorical values to numerical values by lable encoading"
   ]
  },
  {
   "cell_type": "code",
   "execution_count": 46,
   "metadata": {},
   "outputs": [],
   "source": [
    "# Using OneHotEncoder(), we transform 'Sex' and 'Embarked' columns into numerical columns.\n",
    "OHE = OneHotEncoder(sparse=False, drop='first')\n",
    "df_train_categoricals_array = OHE.fit_transform(df_train_categoricals[['Sex', 'Embarked']])\n",
    "df_train_categoricals_OHE = pd.DataFrame(df_train_categoricals_array, columns=['Sex_Male', 'Embarked_Q', 'Embarked_S'] )\n",
    "\n",
    "# Alternative way\n",
    "# column_trans = make_column_transformer((OneHotEncoder(), ['Sex', 'Embarked']), remainder='passthrough')"
   ]
  },
  {
   "cell_type": "code",
   "execution_count": 52,
   "metadata": {},
   "outputs": [
    {
     "data": {
      "text/html": [
       "<div>\n",
       "<style scoped>\n",
       "    .dataframe tbody tr th:only-of-type {\n",
       "        vertical-align: middle;\n",
       "    }\n",
       "\n",
       "    .dataframe tbody tr th {\n",
       "        vertical-align: top;\n",
       "    }\n",
       "\n",
       "    .dataframe thead th {\n",
       "        text-align: right;\n",
       "    }\n",
       "</style>\n",
       "<table border=\"1\" class=\"dataframe\">\n",
       "  <thead>\n",
       "    <tr style=\"text-align: right;\">\n",
       "      <th></th>\n",
       "      <th>Sex_Male</th>\n",
       "      <th>Embarked_Q</th>\n",
       "      <th>Embarked_S</th>\n",
       "    </tr>\n",
       "  </thead>\n",
       "  <tbody>\n",
       "    <tr>\n",
       "      <th>0</th>\n",
       "      <td>1.0</td>\n",
       "      <td>0.0</td>\n",
       "      <td>1.0</td>\n",
       "    </tr>\n",
       "    <tr>\n",
       "      <th>1</th>\n",
       "      <td>0.0</td>\n",
       "      <td>0.0</td>\n",
       "      <td>0.0</td>\n",
       "    </tr>\n",
       "    <tr>\n",
       "      <th>2</th>\n",
       "      <td>0.0</td>\n",
       "      <td>0.0</td>\n",
       "      <td>1.0</td>\n",
       "    </tr>\n",
       "    <tr>\n",
       "      <th>3</th>\n",
       "      <td>0.0</td>\n",
       "      <td>0.0</td>\n",
       "      <td>1.0</td>\n",
       "    </tr>\n",
       "    <tr>\n",
       "      <th>4</th>\n",
       "      <td>1.0</td>\n",
       "      <td>0.0</td>\n",
       "      <td>1.0</td>\n",
       "    </tr>\n",
       "    <tr>\n",
       "      <th>...</th>\n",
       "      <td>...</td>\n",
       "      <td>...</td>\n",
       "      <td>...</td>\n",
       "    </tr>\n",
       "    <tr>\n",
       "      <th>886</th>\n",
       "      <td>1.0</td>\n",
       "      <td>0.0</td>\n",
       "      <td>1.0</td>\n",
       "    </tr>\n",
       "    <tr>\n",
       "      <th>887</th>\n",
       "      <td>0.0</td>\n",
       "      <td>0.0</td>\n",
       "      <td>1.0</td>\n",
       "    </tr>\n",
       "    <tr>\n",
       "      <th>888</th>\n",
       "      <td>0.0</td>\n",
       "      <td>0.0</td>\n",
       "      <td>1.0</td>\n",
       "    </tr>\n",
       "    <tr>\n",
       "      <th>889</th>\n",
       "      <td>1.0</td>\n",
       "      <td>0.0</td>\n",
       "      <td>0.0</td>\n",
       "    </tr>\n",
       "    <tr>\n",
       "      <th>890</th>\n",
       "      <td>1.0</td>\n",
       "      <td>1.0</td>\n",
       "      <td>0.0</td>\n",
       "    </tr>\n",
       "  </tbody>\n",
       "</table>\n",
       "<p>891 rows × 3 columns</p>\n",
       "</div>"
      ],
      "text/plain": [
       "     Sex_Male  Embarked_Q  Embarked_S\n",
       "0         1.0         0.0         1.0\n",
       "1         0.0         0.0         0.0\n",
       "2         0.0         0.0         1.0\n",
       "3         0.0         0.0         1.0\n",
       "4         1.0         0.0         1.0\n",
       "..        ...         ...         ...\n",
       "886       1.0         0.0         1.0\n",
       "887       0.0         0.0         1.0\n",
       "888       0.0         0.0         1.0\n",
       "889       1.0         0.0         0.0\n",
       "890       1.0         1.0         0.0\n",
       "\n",
       "[891 rows x 3 columns]"
      ]
     },
     "execution_count": 52,
     "metadata": {},
     "output_type": "execute_result"
    }
   ],
   "source": [
    "df_train_categoricals_OHE"
   ]
  },
  {
   "cell_type": "code",
   "execution_count": 48,
   "metadata": {},
   "outputs": [
    {
     "data": {
      "text/plain": [
       "[array(['female', 'male'], dtype=object), array(['C', 'Q', 'S'], dtype=object)]"
      ]
     },
     "execution_count": 48,
     "metadata": {},
     "output_type": "execute_result"
    }
   ],
   "source": [
    "OHE.categories_"
   ]
  },
  {
   "cell_type": "markdown",
   "metadata": {},
   "source": [
    "##### 4.4.7) Combining \"df_train_numericals\" and \"df_train_categoricals\" into \"df_train\""
   ]
  },
  {
   "cell_type": "code",
   "execution_count": 56,
   "metadata": {},
   "outputs": [],
   "source": [
    "# Combining numerical columns and transformed categorical columns into \"df_train_OHE\"\n",
    "df_train_OHE = pd.concat([df_train_numericals, df_train_categoricals_OHE], axis=1)"
   ]
  },
  {
   "cell_type": "markdown",
   "metadata": {},
   "source": [
    "##### 4.4.8) Preparing Training data and Test data to train the model"
   ]
  },
  {
   "cell_type": "code",
   "execution_count": 59,
   "metadata": {},
   "outputs": [],
   "source": [
    "# Preparing X(Input) and Y(Output) to train the model\n",
    "X = df_train_OHE[['Age', 'SibSp', 'Parch', 'Sex_Male', 'Embarked_Q', 'Embarked_S']]\n",
    "Y = df_train_OHE[['Survived']]"
   ]
  },
  {
   "cell_type": "code",
   "execution_count": 60,
   "metadata": {},
   "outputs": [],
   "source": [
    "# Splitting the Training data and Testing data to train the model and test the model\n",
    "X_train, X_test, Y_train, Y_test = train_test_split(X, Y, test_size=0.2, random_state=0)"
   ]
  },
  {
   "cell_type": "markdown",
   "metadata": {},
   "source": [
    "## Step 5: Training Model"
   ]
  },
  {
   "cell_type": "markdown",
   "metadata": {},
   "source": [
    "##### 1) Logistic Regression"
   ]
  },
  {
   "cell_type": "code",
   "execution_count": 65,
   "metadata": {},
   "outputs": [
    {
     "name": "stdout",
     "output_type": "stream",
     "text": [
      "0.7877094972067039\n"
     ]
    }
   ],
   "source": [
    "# Training the model using LogisticRegression()\n",
    "LR = LogisticRegression(solver='lbfgs')\n",
    "LR.fit(X_train, Y_train)\n",
    "LR.predict(X_test)\n",
    "LR_Score = LR.score(X_test, Y_test)\n",
    "print(LR_Score)"
   ]
  },
  {
   "cell_type": "markdown",
   "metadata": {},
   "source": [
    "## Step 6: Predicting the outcomes of given test data"
   ]
  },
  {
   "cell_type": "markdown",
   "metadata": {},
   "source": [
    "##### 6.1) EDA - Copy \"test_org\" into \"df_test\" with required columns"
   ]
  },
  {
   "cell_type": "code",
   "execution_count": 72,
   "metadata": {
    "scrolled": true
   },
   "outputs": [
    {
     "data": {
      "text/html": [
       "<div>\n",
       "<style scoped>\n",
       "    .dataframe tbody tr th:only-of-type {\n",
       "        vertical-align: middle;\n",
       "    }\n",
       "\n",
       "    .dataframe tbody tr th {\n",
       "        vertical-align: top;\n",
       "    }\n",
       "\n",
       "    .dataframe thead th {\n",
       "        text-align: right;\n",
       "    }\n",
       "</style>\n",
       "<table border=\"1\" class=\"dataframe\">\n",
       "  <thead>\n",
       "    <tr style=\"text-align: right;\">\n",
       "      <th></th>\n",
       "      <th>PassengerId</th>\n",
       "      <th>Pclass</th>\n",
       "      <th>Sex</th>\n",
       "      <th>Age</th>\n",
       "      <th>SibSp</th>\n",
       "      <th>Parch</th>\n",
       "      <th>Cabin</th>\n",
       "      <th>Embarked</th>\n",
       "    </tr>\n",
       "  </thead>\n",
       "  <tbody>\n",
       "    <tr>\n",
       "      <th>0</th>\n",
       "      <td>892</td>\n",
       "      <td>3</td>\n",
       "      <td>male</td>\n",
       "      <td>34.5</td>\n",
       "      <td>0</td>\n",
       "      <td>0</td>\n",
       "      <td>NaN</td>\n",
       "      <td>Q</td>\n",
       "    </tr>\n",
       "    <tr>\n",
       "      <th>1</th>\n",
       "      <td>893</td>\n",
       "      <td>3</td>\n",
       "      <td>female</td>\n",
       "      <td>47.0</td>\n",
       "      <td>1</td>\n",
       "      <td>0</td>\n",
       "      <td>NaN</td>\n",
       "      <td>S</td>\n",
       "    </tr>\n",
       "    <tr>\n",
       "      <th>2</th>\n",
       "      <td>894</td>\n",
       "      <td>2</td>\n",
       "      <td>male</td>\n",
       "      <td>62.0</td>\n",
       "      <td>0</td>\n",
       "      <td>0</td>\n",
       "      <td>NaN</td>\n",
       "      <td>Q</td>\n",
       "    </tr>\n",
       "    <tr>\n",
       "      <th>3</th>\n",
       "      <td>895</td>\n",
       "      <td>3</td>\n",
       "      <td>male</td>\n",
       "      <td>27.0</td>\n",
       "      <td>0</td>\n",
       "      <td>0</td>\n",
       "      <td>NaN</td>\n",
       "      <td>S</td>\n",
       "    </tr>\n",
       "    <tr>\n",
       "      <th>4</th>\n",
       "      <td>896</td>\n",
       "      <td>3</td>\n",
       "      <td>female</td>\n",
       "      <td>22.0</td>\n",
       "      <td>1</td>\n",
       "      <td>1</td>\n",
       "      <td>NaN</td>\n",
       "      <td>S</td>\n",
       "    </tr>\n",
       "  </tbody>\n",
       "</table>\n",
       "</div>"
      ],
      "text/plain": [
       "   PassengerId  Pclass     Sex   Age  SibSp  Parch Cabin Embarked\n",
       "0          892       3    male  34.5      0      0   NaN        Q\n",
       "1          893       3  female  47.0      1      0   NaN        S\n",
       "2          894       2    male  62.0      0      0   NaN        Q\n",
       "3          895       3    male  27.0      0      0   NaN        S\n",
       "4          896       3  female  22.0      1      1   NaN        S"
      ]
     },
     "execution_count": 72,
     "metadata": {},
     "output_type": "execute_result"
    }
   ],
   "source": [
    "# Copying \"test_org\" into \"df_test\" by droping columns \"Name\", \"Ticket\" and \"Fare\"\n",
    "df_test = test_org.drop(columns=['Name', 'Ticket', 'Fare'])\n",
    "df_test.head()"
   ]
  },
  {
   "cell_type": "markdown",
   "metadata": {},
   "source": [
    "##### 6.2) EDA - Identifying Number of Rows and Columns in \"df_test\""
   ]
  },
  {
   "cell_type": "code",
   "execution_count": 74,
   "metadata": {
    "scrolled": true
   },
   "outputs": [
    {
     "name": "stdout",
     "output_type": "stream",
     "text": [
      "\"df_test\" details :\n",
      "Shape \t:  (418, 8)\n",
      "Rows \t:  418\n",
      "Column \t:  8\n"
     ]
    }
   ],
   "source": [
    "# 2) Identifying Number of Rows and Columns in \"df_train\"\n",
    "print('\\\"df_test\\\" details :')\n",
    "print(\"Shape \\t: \", df_test.shape)\n",
    "print(\"Rows \\t: \", df_test.shape[0])\n",
    "print(\"Column \\t: \", df_test.shape[1])"
   ]
  },
  {
   "cell_type": "markdown",
   "metadata": {},
   "source": [
    "##### 6.3) EDA - Identifying Missing Values in each Column"
   ]
  },
  {
   "cell_type": "code",
   "execution_count": 75,
   "metadata": {
    "scrolled": true
   },
   "outputs": [
    {
     "data": {
      "text/plain": [
       "<matplotlib.axes._subplots.AxesSubplot at 0xe0781590c8>"
      ]
     },
     "execution_count": 75,
     "metadata": {},
     "output_type": "execute_result"
    },
    {
     "data": {
      "image/png": "[encoded data removed]",
      "text/plain": [
       "<Figure size 432x288 with 1 Axes>"
      ]
     },
     "metadata": {},
     "output_type": "display_data"
    }
   ],
   "source": [
    "sns.heatmap(df_test.isnull(), yticklabels=False, cbar=False, cmap='viridis')"
   ]
  },
  {
   "cell_type": "code",
   "execution_count": 77,
   "metadata": {},
   "outputs": [
    {
     "name": "stdout",
     "output_type": "stream",
     "text": [
      "<class 'pandas.core.frame.DataFrame'>\n",
      "RangeIndex: 418 entries, 0 to 417\n",
      "Data columns (total 8 columns):\n",
      " #   Column       Non-Null Count  Dtype  \n",
      "---  ------       --------------  -----  \n",
      " 0   PassengerId  418 non-null    int64  \n",
      " 1   Pclass       418 non-null    int64  \n",
      " 2   Sex          418 non-null    object \n",
      " 3   Age          332 non-null    float64\n",
      " 4   SibSp        418 non-null    int64  \n",
      " 5   Parch        418 non-null    int64  \n",
      " 6   Cabin        91 non-null     object \n",
      " 7   Embarked     418 non-null    object \n",
      "dtypes: float64(1), int64(4), object(3)\n",
      "memory usage: 26.2+ KB\n"
     ]
    }
   ],
   "source": [
    "df_test.info()"
   ]
  },
  {
   "cell_type": "markdown",
   "metadata": {},
   "source": [
    "*Observation:*  \n",
    "By observing the above results, we could understand that \"Age\" and \"Cabin\" columns are having null values."
   ]
  },
  {
   "cell_type": "code",
   "execution_count": 78,
   "metadata": {},
   "outputs": [
    {
     "name": "stdout",
     "output_type": "stream",
     "text": [
      "Missing values are :\n",
      "Age \t :  86\n",
      "Cabin \t :  327\n"
     ]
    }
   ],
   "source": [
    "print(\"Missing values are :\")\n",
    "print('Age \\t : ', df_test.Age.isnull().sum())\n",
    "print('Cabin \\t : ', df_test.Cabin.isnull().sum())"
   ]
  },
  {
   "cell_type": "markdown",
   "metadata": {},
   "source": [
    "##### 6.4) EDA - Replacing Missing values"
   ]
  },
  {
   "cell_type": "markdown",
   "metadata": {},
   "source": [
    "##### 6.4.1) Replacinng \"Cabin\" column"
   ]
  },
  {
   "cell_type": "markdown",
   "metadata": {},
   "source": [
    "As we have droped \"Cabin\" column in df_test data, here also we drop the \"Cabin\" column."
   ]
  },
  {
   "cell_type": "code",
   "execution_count": 79,
   "metadata": {},
   "outputs": [],
   "source": [
    "# Droping the \"Cabin\" column since it has more null values\n",
    "df_test.drop('Cabin', axis=1, inplace=True)"
   ]
  },
  {
   "cell_type": "markdown",
   "metadata": {},
   "source": [
    "##### 6.4.2) Replacinng \"Age\" column\n"
   ]
  },
  {
   "cell_type": "markdown",
   "metadata": {},
   "source": [
    "We do the same as we have done for df_train data frame."
   ]
  },
  {
   "cell_type": "code",
   "execution_count": 80,
   "metadata": {},
   "outputs": [
    {
     "name": "stdout",
     "output_type": "stream",
     "text": [
      "List of unique values in 'Pclass', 'Sex', 'Embarked'\n",
      "\n",
      "Pclass values \t: [3, 2, 1]\n",
      "Sex values \t: ['male', 'female']\n",
      "Embarked values : ['Q', 'S', 'C']\n"
     ]
    }
   ],
   "source": [
    "print(\"List of unique values in \\'Pclass\\', \\'Sex\\', \\'Embarked\\'\\n\")\n",
    "print(\"Pclass values \\t:\", list(df_test.Pclass.unique()))\n",
    "print(\"Sex values \\t:\", list(df_test.Sex.unique()))\n",
    "print(\"Embarked values :\", list(df_test.Embarked.unique()))"
   ]
  },
  {
   "cell_type": "code",
   "execution_count": 81,
   "metadata": {},
   "outputs": [],
   "source": [
    "# Extracting the data from df_test in which Age column values are not null\n",
    "df_test_notnull = df_test[df_test.Age.notnull()]\n",
    "\n",
    "# Extracting the data from df_test in which Age column values are null\n",
    "df_test_null = df_test[df_test.Age.isnull()]"
   ]
  },
  {
   "cell_type": "code",
   "execution_count": 233,
   "metadata": {},
   "outputs": [],
   "source": [
    "# Creating a function to find and replace the mean of Age values based on \"Pclass\", \"Embarked\" and \"Sex\"\n",
    "def replace_test_age(Pclass, Sex, Embarked):\n",
    "    \n",
    "    # Storing conditions based on Pclass, Sex, Embarked\n",
    "    R1 = (df_test_notnull.Pclass==Pclass)\n",
    "    R2 = (df_test_notnull.Sex==Sex)\n",
    "    R3 = (df_test_notnull.Embarked==Embarked)\n",
    "    \n",
    "    # Generating a Rule based on R1, R2, and R3\n",
    "    Rule = pd.Series(np.full(df_test_notnull.shape[0],1))\n",
    "    if R1.sum()>0:\n",
    "        Rule = Rule & R1\n",
    "        if R2.sum()>0:\n",
    "            Rule = Rule & R2\n",
    "            if R3.sum()>0:\n",
    "                Rule = Rule & R3\n",
    "        elif R3.sum()>0:\n",
    "            Rule = Rule & R3\n",
    "    elif R2.sum()>0:\n",
    "        Rule = Rule & R2\n",
    "        if R3.sum()>0:\n",
    "            Rule = Rule & R3\n",
    "    elif R3.sum()>0:\n",
    "        Rule = Rule & R3\n",
    "    else:\n",
    "        return\n",
    "    \n",
    "    # Finding mean of the age column based on Pclass, Sex, and Embarked\n",
    "    age_mean = round(df_test_notnull[Rule].Age.mean())\n",
    "    print('Mean of Pclass:{}, Sex:{}, Embarked:{} is {}'.format(Pclass, Sex, Embarked, age_mean))\n",
    "    \n",
    "    # Replacing \"Age null values\" with \"Age mean values\" based on Pclass, Sex, and Embarked\n",
    "    for index, row in df_test.iterrows():\n",
    "        if (np.isnan(row['Age'])) & (row['Pclass']==Pclass) & (row['Sex']==Sex) & (row['Embarked']==Embarked):\n",
    "            df_test.loc[index, 'Age'] = age_mean"
   ]
  },
  {
   "cell_type": "code",
   "execution_count": 238,
   "metadata": {
    "scrolled": false
   },
   "outputs": [
    {
     "name": "stdout",
     "output_type": "stream",
     "text": [
      "Mean of Pclass:2, Sex:female, Embarked:S is 25\n",
      "Mean of Pclass:1, Sex:male, Embarked:S is 43\n",
      "Mean of Pclass:1, Sex:male, Embarked:C is 39\n",
      "Mean of Pclass:1, Sex:female, Embarked:C is 42\n"
     ]
    }
   ],
   "source": [
    "# Run the \"replace_age()\" function\n",
    "for Pclass in list(df_test.Pclass.unique()):\n",
    "    for Sex in list(df_test.Sex.unique()):\n",
    "        for Embarked in list(df_test.Embarked.unique()):\n",
    "            if bool(((df_test_null.Pclass==Pclass) & (df_test_null.Sex==Sex) & (df_test_null.Embarked==Embarked)).sum()):\n",
    "                # Run the function when the above Condition is true only\n",
    "                replace_test_age(Pclass, Sex, Embarked)"
   ]
  },
  {
   "cell_type": "markdown",
   "metadata": {},
   "source": [
    "##### 6.4.3) Identifying Numerical columns and Categorical Columns and Seperate them"
   ]
  },
  {
   "cell_type": "code",
   "execution_count": 243,
   "metadata": {},
   "outputs": [],
   "source": [
    "df_test_numericals = df_test[['PassengerId', 'Age', 'SibSp', 'Parch']]\n",
    "df_test_categoricals = df_test[['Pclass', 'Sex', 'Embarked']]"
   ]
  },
  {
   "cell_type": "markdown",
   "metadata": {},
   "source": [
    "##### 6.4.4) Converting categorical values to numerical values by lable encoading"
   ]
  },
  {
   "cell_type": "code",
   "execution_count": 244,
   "metadata": {},
   "outputs": [],
   "source": [
    "# Using OneHotEncoder(), we transform 'Sex' and 'Embarked' columns into numerical columns.\n",
    "OHE = OneHotEncoder(sparse=False, drop='first')\n",
    "df_test_categoricals_array = OHE.fit_transform(df_test_categoricals[['Sex', 'Embarked']])\n",
    "df_test_categoricals_OHE = pd.DataFrame(df_test_categoricals_array, columns=['Sex_Male', 'Embarked_Q', 'Embarked_S'] )"
   ]
  },
  {
   "cell_type": "markdown",
   "metadata": {},
   "source": [
    "##### 6.4.5) Combining \"df_train_numericals\" and \"df_train_categoricals\" into \"df_train\""
   ]
  },
  {
   "cell_type": "code",
   "execution_count": null,
   "metadata": {},
   "outputs": [],
   "source": [
    "# Combining numerical columns and transformed categorical columns into \"df_train_OHE\"\n",
    "df_test_OHE = pd.concat([df_test_numericals, df_test_categoricals_OHE], axis=1)"
   ]
  },
  {
   "cell_type": "markdown",
   "metadata": {},
   "source": [
    "##### 6.4.6) Preparing Training data and Test data to train the model`"
   ]
  },
  {
   "cell_type": "code",
   "execution_count": 258,
   "metadata": {},
   "outputs": [],
   "source": [
    "# Preparing X(Input) and Y(Output) to train the model\n",
    "X = df_test_OHE[['Age', 'SibSp', 'Parch', 'Sex_Male', 'Embarked_Q', 'Embarked_S']]"
   ]
  },
  {
   "cell_type": "code",
   "execution_count": 260,
   "metadata": {},
   "outputs": [],
   "source": [
    "df_test_pred = LR.predict(X)"
   ]
  },
  {
   "cell_type": "code",
   "execution_count": 268,
   "metadata": {},
   "outputs": [],
   "source": [
    "LR_Score = LR.score(X, test_org_gender_submission['Survived'])"
   ]
  },
  {
   "cell_type": "code",
   "execution_count": 269,
   "metadata": {},
   "outputs": [
    {
     "name": "stdout",
     "output_type": "stream",
     "text": [
      "0.992822966507177\n"
     ]
    }
   ],
   "source": [
    "print(LR_Score)"
   ]
  },
  {
   "cell_type": "code",
   "execution_count": 278,
   "metadata": {},
   "outputs": [],
   "source": [
    "# Storing prediction values into test dataframe\n",
    "df_test_OHE['Survived'] = df_test_pred"
   ]
  },
  {
   "cell_type": "code",
   "execution_count": 280,
   "metadata": {
    "scrolled": true
   },
   "outputs": [],
   "source": [
    "# Exporting columns \"PassengerId\", \"Prediction Survived\" into csv file\n",
    "df_test_OHE[['PassengerId', 'Survived']].to_csv('test_results.csv')"
   ]
  },
  {
   "cell_type": "code",
   "execution_count": 282,
   "metadata": {},
   "outputs": [],
   "source": [
    "# Storing actual submission values into test_results dataframe\n",
    "df_test_results = df_test_OHE[['PassengerId', 'Survived']]\n",
    "df_test_results['Survived_Submission'] = test_org_gender_submission['Survived']\n",
    "\n",
    "# Exporting columns \"PassengerId\", \"Prediction Survived\"  and \"Actual Survived\" into csv file\n",
    "df_test_results.to_csv('test_results_compare.csv')"
   ]
  },
  {
   "cell_type": "code",
   "execution_count": 286,
   "metadata": {
    "scrolled": true
   },
   "outputs": [
    {
     "data": {
      "text/html": [
       "<div>\n",
       "<style scoped>\n",
       "    .dataframe tbody tr th:only-of-type {\n",
       "        vertical-align: middle;\n",
       "    }\n",
       "\n",
       "    .dataframe tbody tr th {\n",
       "        vertical-align: top;\n",
       "    }\n",
       "\n",
       "    .dataframe thead th {\n",
       "        text-align: right;\n",
       "    }\n",
       "</style>\n",
       "<table border=\"1\" class=\"dataframe\">\n",
       "  <thead>\n",
       "    <tr style=\"text-align: right;\">\n",
       "      <th></th>\n",
       "      <th>PassengerId</th>\n",
       "      <th>Survived</th>\n",
       "      <th>Survived_Submission</th>\n",
       "    </tr>\n",
       "  </thead>\n",
       "  <tbody>\n",
       "    <tr>\n",
       "      <th>140</th>\n",
       "      <td>1032</td>\n",
       "      <td>0</td>\n",
       "      <td>1</td>\n",
       "    </tr>\n",
       "    <tr>\n",
       "      <th>188</th>\n",
       "      <td>1080</td>\n",
       "      <td>0</td>\n",
       "      <td>1</td>\n",
       "    </tr>\n",
       "    <tr>\n",
       "      <th>214</th>\n",
       "      <td>1106</td>\n",
       "      <td>0</td>\n",
       "      <td>1</td>\n",
       "    </tr>\n",
       "  </tbody>\n",
       "</table>\n",
       "</div>"
      ],
      "text/plain": [
       "     PassengerId  Survived  Survived_Submission\n",
       "140         1032         0                    1\n",
       "188         1080         0                    1\n",
       "214         1106         0                    1"
      ]
     },
     "execution_count": 286,
     "metadata": {},
     "output_type": "execute_result"
    }
   ],
   "source": [
    "df_test_results[df_test_results['Survived']!=df_test_results['Survived_Submission']]"
   ]
  },
  {
   "cell_type": "markdown",
   "metadata": {},
   "source": [
    "##### ================================================================================================"
   ]
  },
  {
   "cell_type": "markdown",
   "metadata": {},
   "source": [
    "## Task: \n",
    "##### Add extra column in data frame as 'Name_Dummy' which contains numerical values like below\n",
    "0 : [Mr., Mr , Master]  \n",
    "1 : [Miss.]  \n",
    "2 : [Mrs., Mrs , Ms]  \n",
    "3 : [Dr.]  \n",
    "4 : [Rev.]  \n",
    "5 : [Others]  \n"
   ]
  },
  {
   "cell_type": "code",
   "execution_count": 288,
   "metadata": {},
   "outputs": [],
   "source": [
    "# Loading Data into \"df_train_1\"\n",
    "df_train_1 = pd.read_csv('data/train.csv')"
   ]
  },
  {
   "cell_type": "code",
   "execution_count": 289,
   "metadata": {
    "scrolled": true
   },
   "outputs": [
    {
     "data": {
      "text/plain": [
       "Johnson, Mrs. Oscar W (Elisabeth Vilhelmina Berg)    1\n",
       "Jensen, Mr. Hans Peder                               1\n",
       "Flynn, Mr. James                                     1\n",
       "Farrell, Mr. James                                   1\n",
       "Hirvonen, Miss. Hildur E                             1\n",
       "                                                    ..\n",
       "Ali, Mr. William                                     1\n",
       "Markun, Mr. Johann                                   1\n",
       "Murphy, Miss. Margaret Jane                          1\n",
       "Webber, Miss. Susan                                  1\n",
       "Harrison, Mr. William                                1\n",
       "Name: Name, Length: 891, dtype: int64"
      ]
     },
     "execution_count": 289,
     "metadata": {},
     "output_type": "execute_result"
    }
   ],
   "source": [
    "# How many different names are there?\n",
    "df_train_1.Name.value_counts()"
   ]
  },
  {
   "cell_type": "code",
   "execution_count": 290,
   "metadata": {
    "scrolled": true
   },
   "outputs": [
    {
     "name": "stdout",
     "output_type": "stream",
     "text": [
      "Given lables for name column\n",
      "0 : [Mr., Mr , Master]\n",
      "1 : [Miss.]\n",
      "2 : [Mrs., Mrs , Ms]\n",
      "3 : [Dr.]\n",
      "4 : [Rev.]\n",
      "5 : [Others]\n"
     ]
    }
   ],
   "source": [
    "# Labeling Name column values\n",
    "Name_Dummy = []\n",
    "for name in df_train_1['Name']:\n",
    "    if ('Mr.' in name) or ('Master' in name) or ('Mr ' in name):\n",
    "        Name_Dummy.append(0)\n",
    "    elif 'Miss.' in name:\n",
    "        Name_Dummy.append(1)\n",
    "    elif ('Mrs.' in name) or ('Mrs ' in name) or ('Ms.' in name):\n",
    "        Name_Dummy.append(2)\n",
    "    elif ('Dr.' in name):\n",
    "        Name_Dummy.append(3)\n",
    "    elif ('Rev.' in name):\n",
    "        Name_Dummy.append(4)\n",
    "    else:\n",
    "        Name_Dummy.append(5)\n",
    "print(\"Given lables for name column\\n0 : [Mr., Mr , Master]\\n1 : [Miss.]\\n2 : [Mrs., Mrs , Ms]\\n3 : [Dr.]\\n4 : [Rev.]\\n5 : [Others]\")\n",
    "df_train_1['Name_Dummy'] = pd.Series(Name_Dummy)"
   ]
  },
  {
   "cell_type": "code",
   "execution_count": 293,
   "metadata": {
    "scrolled": false
   },
   "outputs": [
    {
     "data": {
      "text/html": [
       "<div>\n",
       "<style scoped>\n",
       "    .dataframe tbody tr th:only-of-type {\n",
       "        vertical-align: middle;\n",
       "    }\n",
       "\n",
       "    .dataframe tbody tr th {\n",
       "        vertical-align: top;\n",
       "    }\n",
       "\n",
       "    .dataframe thead th {\n",
       "        text-align: right;\n",
       "    }\n",
       "</style>\n",
       "<table border=\"1\" class=\"dataframe\">\n",
       "  <thead>\n",
       "    <tr style=\"text-align: right;\">\n",
       "      <th></th>\n",
       "      <th>Name</th>\n",
       "      <th>Name_Dummy</th>\n",
       "    </tr>\n",
       "  </thead>\n",
       "  <tbody>\n",
       "    <tr>\n",
       "      <th>0</th>\n",
       "      <td>Braund, Mr. Owen Harris</td>\n",
       "      <td>0</td>\n",
       "    </tr>\n",
       "    <tr>\n",
       "      <th>1</th>\n",
       "      <td>Cumings, Mrs. John Bradley (Florence Briggs Th...</td>\n",
       "      <td>2</td>\n",
       "    </tr>\n",
       "    <tr>\n",
       "      <th>2</th>\n",
       "      <td>Heikkinen, Miss. Laina</td>\n",
       "      <td>1</td>\n",
       "    </tr>\n",
       "    <tr>\n",
       "      <th>3</th>\n",
       "      <td>Futrelle, Mrs. Jacques Heath (Lily May Peel)</td>\n",
       "      <td>2</td>\n",
       "    </tr>\n",
       "    <tr>\n",
       "      <th>4</th>\n",
       "      <td>Allen, Mr. William Henry</td>\n",
       "      <td>0</td>\n",
       "    </tr>\n",
       "    <tr>\n",
       "      <th>...</th>\n",
       "      <td>...</td>\n",
       "      <td>...</td>\n",
       "    </tr>\n",
       "    <tr>\n",
       "      <th>886</th>\n",
       "      <td>Montvila, Rev. Juozas</td>\n",
       "      <td>4</td>\n",
       "    </tr>\n",
       "    <tr>\n",
       "      <th>887</th>\n",
       "      <td>Graham, Miss. Margaret Edith</td>\n",
       "      <td>1</td>\n",
       "    </tr>\n",
       "    <tr>\n",
       "      <th>888</th>\n",
       "      <td>Johnston, Miss. Catherine Helen \"Carrie\"</td>\n",
       "      <td>1</td>\n",
       "    </tr>\n",
       "    <tr>\n",
       "      <th>889</th>\n",
       "      <td>Behr, Mr. Karl Howell</td>\n",
       "      <td>0</td>\n",
       "    </tr>\n",
       "    <tr>\n",
       "      <th>890</th>\n",
       "      <td>Dooley, Mr. Patrick</td>\n",
       "      <td>0</td>\n",
       "    </tr>\n",
       "  </tbody>\n",
       "</table>\n",
       "<p>891 rows × 2 columns</p>\n",
       "</div>"
      ],
      "text/plain": [
       "                                                  Name  Name_Dummy\n",
       "0                              Braund, Mr. Owen Harris           0\n",
       "1    Cumings, Mrs. John Bradley (Florence Briggs Th...           2\n",
       "2                               Heikkinen, Miss. Laina           1\n",
       "3         Futrelle, Mrs. Jacques Heath (Lily May Peel)           2\n",
       "4                             Allen, Mr. William Henry           0\n",
       "..                                                 ...         ...\n",
       "886                              Montvila, Rev. Juozas           4\n",
       "887                       Graham, Miss. Margaret Edith           1\n",
       "888           Johnston, Miss. Catherine Helen \"Carrie\"           1\n",
       "889                              Behr, Mr. Karl Howell           0\n",
       "890                                Dooley, Mr. Patrick           0\n",
       "\n",
       "[891 rows x 2 columns]"
      ]
     },
     "execution_count": 293,
     "metadata": {},
     "output_type": "execute_result"
    }
   ],
   "source": [
    "df_train_1[['Name', 'Name_Dummy']]"
   ]
  },
  {
   "cell_type": "markdown",
   "metadata": {},
   "source": [
    "##### ===================================================== END ====================================================="
   ]
  }
 ],
 "metadata": {
  "kernelspec": {
   "display_name": "Python 3",
   "language": "python",
   "name": "python3"
  },
  "language_info": {
   "codemirror_mode": {
    "name": "ipython",
    "version": 3
   },
   "file_extension": ".py",
   "mimetype": "text/x-python",
   "name": "python",
   "nbconvert_exporter": "python",
   "pygments_lexer": "ipython3",
   "version": "3.7.6"
  }
 },
 "nbformat": 4,
 "nbformat_minor": 2
}
