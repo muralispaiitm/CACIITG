{
 "cells": [
  {
   "cell_type": "markdown",
   "metadata": {},
   "source": [
    "# Chicago_Crime_Detective Project"
   ]
  },
  {
   "cell_type": "markdown",
   "metadata": {},
   "source": [
    "### Step 1: Download the data from the source"
   ]
  },
  {
   "cell_type": "markdown",
   "metadata": {},
   "source": [
    "Need to add"
   ]
  },
  {
   "cell_type": "markdown",
   "metadata": {},
   "source": [
    "### Step 2: Importing Lybraries"
   ]
  },
  {
   "cell_type": "code",
   "execution_count": 1,
   "metadata": {},
   "outputs": [],
   "source": [
    "# Importing required libraries\n",
    "from math import *\n",
    "import pandas as pd\n",
    "import numpy as np\n",
    "import datetime\n",
    "import dateutil\n",
    "import matplotlib.pyplot as plt"
   ]
  },
  {
   "cell_type": "markdown",
   "metadata": {},
   "source": [
    "### Step 3: Load the data into data frames"
   ]
  },
  {
   "cell_type": "code",
   "execution_count": 3,
   "metadata": {},
   "outputs": [
    {
     "name": "stderr",
     "output_type": "stream",
     "text": [
      "C:\\Users\\windows 8.1\\anaconda3\\lib\\site-packages\\IPython\\core\\interactiveshell.py:3063: DtypeWarning: Columns (6,7) have mixed types.Specify dtype option on import or set low_memory=False.\n",
      "  interactivity=interactivity, compiler=compiler, result=result)\n"
     ]
    },
    {
     "data": {
      "text/html": [
       "<div>\n",
       "<style scoped>\n",
       "    .dataframe tbody tr th:only-of-type {\n",
       "        vertical-align: middle;\n",
       "    }\n",
       "\n",
       "    .dataframe tbody tr th {\n",
       "        vertical-align: top;\n",
       "    }\n",
       "\n",
       "    .dataframe thead th {\n",
       "        text-align: right;\n",
       "    }\n",
       "</style>\n",
       "<table border=\"1\" class=\"dataframe\">\n",
       "  <thead>\n",
       "    <tr style=\"text-align: right;\">\n",
       "      <th></th>\n",
       "      <th>ID</th>\n",
       "      <th>Date</th>\n",
       "      <th>LocationDescription</th>\n",
       "      <th>Arrest</th>\n",
       "      <th>Domestic</th>\n",
       "      <th>Beat</th>\n",
       "      <th>District</th>\n",
       "      <th>CommunityArea</th>\n",
       "      <th>Year</th>\n",
       "    </tr>\n",
       "  </thead>\n",
       "  <tbody>\n",
       "    <tr>\n",
       "      <th>0</th>\n",
       "      <td>8951354</td>\n",
       "      <td>12/31/2012 23:15</td>\n",
       "      <td>STREET</td>\n",
       "      <td>False</td>\n",
       "      <td>False</td>\n",
       "      <td>623</td>\n",
       "      <td>6</td>\n",
       "      <td>69</td>\n",
       "      <td>2012</td>\n",
       "    </tr>\n",
       "    <tr>\n",
       "      <th>1</th>\n",
       "      <td>8951141</td>\n",
       "      <td>12/31/2012 22:00</td>\n",
       "      <td>STREET</td>\n",
       "      <td>False</td>\n",
       "      <td>False</td>\n",
       "      <td>1213</td>\n",
       "      <td>12</td>\n",
       "      <td>24</td>\n",
       "      <td>2012</td>\n",
       "    </tr>\n",
       "    <tr>\n",
       "      <th>2</th>\n",
       "      <td>8952745</td>\n",
       "      <td>12/31/2012 22:00</td>\n",
       "      <td>RESIDENTIAL YARD (FRONT/BACK)</td>\n",
       "      <td>False</td>\n",
       "      <td>False</td>\n",
       "      <td>1622</td>\n",
       "      <td>16</td>\n",
       "      <td>11</td>\n",
       "      <td>2012</td>\n",
       "    </tr>\n",
       "    <tr>\n",
       "      <th>3</th>\n",
       "      <td>8952223</td>\n",
       "      <td>12/31/2012 22:00</td>\n",
       "      <td>STREET</td>\n",
       "      <td>False</td>\n",
       "      <td>False</td>\n",
       "      <td>724</td>\n",
       "      <td>7</td>\n",
       "      <td>67</td>\n",
       "      <td>2012</td>\n",
       "    </tr>\n",
       "    <tr>\n",
       "      <th>4</th>\n",
       "      <td>8951608</td>\n",
       "      <td>12/31/2012 21:30</td>\n",
       "      <td>STREET</td>\n",
       "      <td>False</td>\n",
       "      <td>False</td>\n",
       "      <td>211</td>\n",
       "      <td>2</td>\n",
       "      <td>35</td>\n",
       "      <td>2012</td>\n",
       "    </tr>\n",
       "  </tbody>\n",
       "</table>\n",
       "</div>"
      ],
      "text/plain": [
       "        ID              Date            LocationDescription  Arrest  Domestic  \\\n",
       "0  8951354  12/31/2012 23:15                         STREET   False     False   \n",
       "1  8951141  12/31/2012 22:00                         STREET   False     False   \n",
       "2  8952745  12/31/2012 22:00  RESIDENTIAL YARD (FRONT/BACK)   False     False   \n",
       "3  8952223  12/31/2012 22:00                         STREET   False     False   \n",
       "4  8951608  12/31/2012 21:30                         STREET   False     False   \n",
       "\n",
       "   Beat District CommunityArea  Year  \n",
       "0   623        6            69  2012  \n",
       "1  1213       12            24  2012  \n",
       "2  1622       16            11  2012  \n",
       "3   724        7            67  2012  \n",
       "4   211        2            35  2012  "
      ]
     },
     "execution_count": 3,
     "metadata": {},
     "output_type": "execute_result"
    }
   ],
   "source": [
    "chicago = pd.read_csv('Chicago_Crime_Detective.csv')\n",
    "chicago.head()"
   ]
  },
  {
   "cell_type": "markdown",
   "metadata": {},
   "source": [
    "### Step 4: EDA - Creating a function\n",
    "(to display the data type of each column of data frame)"
   ]
  },
  {
   "cell_type": "code",
   "execution_count": 4,
   "metadata": {},
   "outputs": [
    {
     "name": "stdout",
     "output_type": "stream",
     "text": [
      "\"display_dtypes()\" function is successfully created\n"
     ]
    }
   ],
   "source": [
    "# Creating a function to display the data type of each column under column name in the chocago data frame\n",
    "def display_dtypes(df):\n",
    "    row = 1\n",
    "    col = len(df.columns)\n",
    "    display_dtypes = pd.DataFrame(np.array(df.dtypes).reshape(row,col), columns=list(df.columns))\n",
    "    return display_dtypes\n",
    "\n",
    "print(\"\\\"display_dtypes()\\\" function is successfully created\")"
   ]
  },
  {
   "cell_type": "code",
   "execution_count": 5,
   "metadata": {},
   "outputs": [
    {
     "data": {
      "text/html": [
       "<div>\n",
       "<style scoped>\n",
       "    .dataframe tbody tr th:only-of-type {\n",
       "        vertical-align: middle;\n",
       "    }\n",
       "\n",
       "    .dataframe tbody tr th {\n",
       "        vertical-align: top;\n",
       "    }\n",
       "\n",
       "    .dataframe thead th {\n",
       "        text-align: right;\n",
       "    }\n",
       "</style>\n",
       "<table border=\"1\" class=\"dataframe\">\n",
       "  <thead>\n",
       "    <tr style=\"text-align: right;\">\n",
       "      <th></th>\n",
       "      <th>ID</th>\n",
       "      <th>Date</th>\n",
       "      <th>LocationDescription</th>\n",
       "      <th>Arrest</th>\n",
       "      <th>Domestic</th>\n",
       "      <th>Beat</th>\n",
       "      <th>District</th>\n",
       "      <th>CommunityArea</th>\n",
       "      <th>Year</th>\n",
       "    </tr>\n",
       "  </thead>\n",
       "  <tbody>\n",
       "    <tr>\n",
       "      <th>0</th>\n",
       "      <td>int64</td>\n",
       "      <td>object</td>\n",
       "      <td>object</td>\n",
       "      <td>bool</td>\n",
       "      <td>bool</td>\n",
       "      <td>int64</td>\n",
       "      <td>object</td>\n",
       "      <td>object</td>\n",
       "      <td>int64</td>\n",
       "    </tr>\n",
       "  </tbody>\n",
       "</table>\n",
       "</div>"
      ],
      "text/plain": [
       "      ID    Date LocationDescription Arrest Domestic   Beat District  \\\n",
       "0  int64  object              object   bool     bool  int64   object   \n",
       "\n",
       "  CommunityArea   Year  \n",
       "0        object  int64  "
      ]
     },
     "execution_count": 5,
     "metadata": {},
     "output_type": "execute_result"
    }
   ],
   "source": [
    "# Displaying the data types of each column in the chicago data frame\n",
    "display_dtypes(chicago)"
   ]
  },
  {
   "cell_type": "markdown",
   "metadata": {},
   "source": [
    "### Step 5: Answers of Questions"
   ]
  },
  {
   "cell_type": "markdown",
   "metadata": {},
   "source": [
    "### Q1) What is the Month and Year of the median date in our dataset? \n",
    "Enter your answer as \"Month Year\", without the quotes.   \n",
    "(Ex: if the answer was 2008-03-28, you would give the answer \"March 2008\", without the quotes.)"
   ]
  },
  {
   "cell_type": "markdown",
   "metadata": {},
   "source": [
    "##### Recall:\n",
    "If the set has n odd number of elements, then the median is (n+1)/2, after arranging the elements in ascending order."
   ]
  },
  {
   "cell_type": "code",
   "execution_count": 6,
   "metadata": {},
   "outputs": [
    {
     "name": "stdout",
     "output_type": "stream",
     "text": [
      "The number of values in Date column is :  191641\n",
      "The median of the date is 95821 th element\n"
     ]
    }
   ],
   "source": [
    "print(\"The number of values in Date column is : \", chicago.Date.count())\n",
    "print(\"The median of the date is {} th element\".format(int((chicago.Date.count()+1)/2)))"
   ]
  },
  {
   "cell_type": "markdown",
   "metadata": {},
   "source": [
    "##### Method 1"
   ]
  },
  {
   "cell_type": "code",
   "execution_count": 7,
   "metadata": {
    "scrolled": false
   },
   "outputs": [
    {
     "name": "stdout",
     "output_type": "stream",
     "text": [
      "Before converting Date column in DateTime format\n",
      "------------------------------------------------\n",
      "\n",
      "The median of the date is :  5/21/2006 12:00\n"
     ]
    }
   ],
   "source": [
    "print('Before converting Date column in DateTime format')\n",
    "print('------------------------------------------------\\n')\n",
    "print(\"The median of the date is : \", chicago.Date.sort_values()[(191642/2)])"
   ]
  },
  {
   "cell_type": "markdown",
   "metadata": {},
   "source": [
    "##### Method 2"
   ]
  },
  {
   "cell_type": "code",
   "execution_count": 8,
   "metadata": {
    "scrolled": true
   },
   "outputs": [
    {
     "name": "stdout",
     "output_type": "stream",
     "text": [
      "After converting Date column in DateTime format\n",
      "-----------------------------------------------\n",
      "\n",
      "The Median of Date values is :  2006-05-21 12:00:00\n"
     ]
    }
   ],
   "source": [
    "# Converting Date column in datetime format\n",
    "chicago['Date'] = pd.to_datetime(chicago['Date'])\n",
    "\n",
    "print('After converting Date column in DateTime format')\n",
    "print('-----------------------------------------------\\n')\n",
    "print(\"The Median of Date values is : \", chicago.Date.sort_values()[95821])"
   ]
  },
  {
   "cell_type": "code",
   "execution_count": 9,
   "metadata": {
    "scrolled": true
   },
   "outputs": [
    {
     "data": {
      "text/html": [
       "<div>\n",
       "<style scoped>\n",
       "    .dataframe tbody tr th:only-of-type {\n",
       "        vertical-align: middle;\n",
       "    }\n",
       "\n",
       "    .dataframe tbody tr th {\n",
       "        vertical-align: top;\n",
       "    }\n",
       "\n",
       "    .dataframe thead th {\n",
       "        text-align: right;\n",
       "    }\n",
       "</style>\n",
       "<table border=\"1\" class=\"dataframe\">\n",
       "  <thead>\n",
       "    <tr style=\"text-align: right;\">\n",
       "      <th></th>\n",
       "      <th>ID</th>\n",
       "      <th>Date</th>\n",
       "      <th>LocationDescription</th>\n",
       "      <th>Arrest</th>\n",
       "      <th>Domestic</th>\n",
       "      <th>Beat</th>\n",
       "      <th>District</th>\n",
       "      <th>CommunityArea</th>\n",
       "      <th>Year</th>\n",
       "    </tr>\n",
       "  </thead>\n",
       "  <tbody>\n",
       "    <tr>\n",
       "      <th>0</th>\n",
       "      <td>int64</td>\n",
       "      <td>datetime64[ns]</td>\n",
       "      <td>object</td>\n",
       "      <td>bool</td>\n",
       "      <td>bool</td>\n",
       "      <td>int64</td>\n",
       "      <td>object</td>\n",
       "      <td>object</td>\n",
       "      <td>int64</td>\n",
       "    </tr>\n",
       "  </tbody>\n",
       "</table>\n",
       "</div>"
      ],
      "text/plain": [
       "      ID            Date LocationDescription Arrest Domestic   Beat District  \\\n",
       "0  int64  datetime64[ns]              object   bool     bool  int64   object   \n",
       "\n",
       "  CommunityArea   Year  \n",
       "0        object  int64  "
      ]
     },
     "execution_count": 9,
     "metadata": {},
     "output_type": "execute_result"
    }
   ],
   "source": [
    "# Displaying the data types of each column in the chicago data frame\n",
    "display_dtypes(chicago)"
   ]
  },
  {
   "cell_type": "markdown",
   "metadata": {},
   "source": [
    "##### Time functionalities"
   ]
  },
  {
   "cell_type": "code",
   "execution_count": null,
   "metadata": {},
   "outputs": [],
   "source": [
    "# Time functionalities\n",
    "pd.Timestamp(datetime.datetime(2012, 5, 1))\n",
    "pd.Timestamp('2012-05-01')\n",
    "pd.Timestamp(2012, 5, 1)\n",
    "\n",
    "pd.Timestamp('2000-03-31').day_name()\n",
    "pd.Timedelta('1 day')\n",
    "pd.date_range('2000', freq='D', periods=5)\n",
    "\n",
    "chicago.Date.dt.year\n",
    "chicago.Date.dt.month\n",
    "chicago.Date.dt.day\n",
    "chicago.Date.dt.hour\n",
    "chicago.Date.dt.minute\n",
    "chicago.Date.dt.second\n",
    "chicago.Date.dt.day\n",
    "chicago.Date.dt.weekday"
   ]
  },
  {
   "cell_type": "markdown",
   "metadata": {},
   "source": [
    "### 2) In which month did the lowest motor vehicle thefts occur?\n",
    "(Ex: if the answer was March, you would give the answer \"March\", without the quotes.)"
   ]
  },
  {
   "cell_type": "code",
   "execution_count": 10,
   "metadata": {
    "scrolled": true
   },
   "outputs": [
    {
     "data": {
      "text/plain": [
       "10    17086\n",
       "7     16801\n",
       "8     16572\n",
       "12    16426\n",
       "11    16063\n",
       "9     16060\n",
       "1     16047\n",
       "5     16035\n",
       "6     16002\n",
       "3     15758\n",
       "4     15280\n",
       "2     13511\n",
       "Name: Date, dtype: int64"
      ]
     },
     "execution_count": 10,
     "metadata": {},
     "output_type": "execute_result"
    }
   ],
   "source": [
    "chicago.Date.dt.month.value_counts()"
   ]
  },
  {
   "cell_type": "markdown",
   "metadata": {},
   "source": [
    "**Observation:**  \n",
    "By observing the above results, in **February** month vehicle theft is minimum"
   ]
  },
  {
   "cell_type": "code",
   "execution_count": 14,
   "metadata": {},
   "outputs": [
    {
     "name": "stdout",
     "output_type": "stream",
     "text": [
      "Most motor vehicle theft occur is on **February** month\n"
     ]
    }
   ],
   "source": [
    "print('Most motor vehicle theft occur is on **February** month')"
   ]
  },
  {
   "cell_type": "markdown",
   "metadata": {},
   "source": [
    "### 3) On which weekday did most motor vehicle thefts occur?\n",
    "(Ex: if the answer was Monday, you would give the answer \"Monday\", without the quotes.)"
   ]
  },
  {
   "cell_type": "code",
   "execution_count": 15,
   "metadata": {},
   "outputs": [
    {
     "data": {
      "text/plain": [
       "4    29284\n",
       "2    27416\n",
       "0    27397\n",
       "3    27319\n",
       "5    27118\n",
       "1    26791\n",
       "6    26316\n",
       "Name: Date, dtype: int64"
      ]
     },
     "execution_count": 15,
     "metadata": {},
     "output_type": "execute_result"
    }
   ],
   "source": [
    "chicago.Date.dt.weekday.value_counts()"
   ]
  },
  {
   "cell_type": "markdown",
   "metadata": {},
   "source": [
    "**Observation:**  By observing above results, number 4 is having maximum vehicle theft.   \n",
    "                So vehicle theft is more on **Friday**.\n",
    "\n",
    "*Note:*  \n",
    "0 - Monday  \n",
    "1 - Tuesday  \n",
    "2 - Wednessday  \n",
    "3 - Thurday  \n",
    "4 - Friday  \n",
    "5 - Saturday  \n",
    "6 - Sunday"
   ]
  },
  {
   "cell_type": "code",
   "execution_count": 16,
   "metadata": {},
   "outputs": [
    {
     "name": "stdout",
     "output_type": "stream",
     "text": [
      "Most motor vehicle theft occur is on **Friday**\n"
     ]
    }
   ],
   "source": [
    "print('Most motor vehicle theft occur is on **Friday**')"
   ]
  },
  {
   "cell_type": "markdown",
   "metadata": {},
   "source": [
    "### 4) Each observation in the dataset represents a motor vehicle theft, and the Arrest variable indicates whether an arrest was later made for this theft. Which month has the largest number of motor vehicle thefts for which an arrest was made?\n",
    "(Ex: if the answer was March, you would give the answer \"March\", without the quotes.)"
   ]
  },
  {
   "cell_type": "code",
   "execution_count": 18,
   "metadata": {
    "scrolled": false
   },
   "outputs": [
    {
     "data": {
      "text/plain": [
       "1     1435\n",
       "12    1397\n",
       "10    1342\n",
       "8     1329\n",
       "7     1324\n",
       "3     1298\n",
       "11    1256\n",
       "4     1252\n",
       "9     1248\n",
       "2     1238\n",
       "6     1230\n",
       "5     1187\n",
       "Name: Date, dtype: int64"
      ]
     },
     "execution_count": 18,
     "metadata": {},
     "output_type": "execute_result"
    }
   ],
   "source": [
    "chicago[chicago['Arrest']==True].Date.dt.month.value_counts()"
   ]
  },
  {
   "cell_type": "markdown",
   "metadata": {},
   "source": [
    "**Observation:**    \n",
    "By observing above results, number 1 is having maximum vehicle theft.   \n",
    "So vehicle theft is more on **January**.\n",
    "\n",
    "*Note:*  \n",
    "1 - January  \n",
    "2 - February  \n",
    "3 - March  \n",
    "4 - April  \n",
    "5 - May\n",
    "6 - June  \n",
    "7 - July  \n",
    "8 - August  \n",
    "9 - September  \n",
    "10 - October  \n",
    "11 - November  \n",
    "12 - December"
   ]
  },
  {
   "cell_type": "code",
   "execution_count": 20,
   "metadata": {},
   "outputs": [
    {
     "name": "stdout",
     "output_type": "stream",
     "text": [
      "**January** month has the largest number of motor vehicle thefts for which an arrest was made\n"
     ]
    }
   ],
   "source": [
    "print('**January** month has the largest number of motor vehicle thefts for which an arrest was made')"
   ]
  },
  {
   "cell_type": "markdown",
   "metadata": {
    "scrolled": true
   },
   "source": [
    "### 5) Select the true statements"
   ]
  },
  {
   "cell_type": "markdown",
   "metadata": {},
   "source": [
    "##### i)   In general, does it look like crime decreases from 2002 - 2012?"
   ]
  },
  {
   "cell_type": "markdown",
   "metadata": {},
   "source": [
    "##### ii)  In general, does it look like crime increases from 2005 - 2008?"
   ]
  },
  {
   "cell_type": "markdown",
   "metadata": {},
   "source": [
    "##### iii) In general, does it look like crime increases from 2009 - 2011?"
   ]
  },
  {
   "cell_type": "code",
   "execution_count": 21,
   "metadata": {
    "scrolled": false
   },
   "outputs": [
    {
     "data": {
      "text/plain": [
       "(array([39422., 16657., 16862., 16484., 16098., 14280., 14445., 12167.,\n",
       "        15497., 29729.]),\n",
       " array([2001. , 2002.1, 2003.2, 2004.3, 2005.4, 2006.5, 2007.6, 2008.7,\n",
       "        2009.8, 2010.9, 2012. ]),\n",
       " <a list of 10 Patch objects>)"
      ]
     },
     "execution_count": 21,
     "metadata": {},
     "output_type": "execute_result"
    },
    {
     "data": {
      "image/png": "[encoded data removed]",
      "text/plain": [
       "<Figure size 432x288 with 1 Axes>"
      ]
     },
     "metadata": {
      "needs_background": "light"
     },
     "output_type": "display_data"
    }
   ],
   "source": [
    "plt.hist(chicago.Year, rwidth=0.9)"
   ]
  },
  {
   "cell_type": "code",
   "execution_count": 22,
   "metadata": {},
   "outputs": [
    {
     "data": {
      "text/plain": [
       "[<matplotlib.lines.Line2D at 0x384cd38548>]"
      ]
     },
     "execution_count": 22,
     "metadata": {},
     "output_type": "execute_result"
    },
    {
     "data": {
      "image/png": "[encoded data removed]",
      "text/plain": [
       "<Figure size 432x288 with 1 Axes>"
      ]
     },
     "metadata": {
      "needs_background": "light"
     },
     "output_type": "display_data"
    }
   ],
   "source": [
    "plt.plot(chicago.groupby('Year').ID.count())"
   ]
  },
  {
   "cell_type": "code",
   "execution_count": 23,
   "metadata": {},
   "outputs": [
    {
     "name": "stdout",
     "output_type": "stream",
     "text": [
      "Question: In general, does it look like crime decreases from 2002 - 2012?\n",
      "Answer: Correct\n",
      "\n",
      "\n",
      "Question: In general, does it look like crime increases from 2005 - 2008?\n",
      "Answer: Wrong\n",
      "\n",
      "\n",
      "Question: In general, does it look like crime increases from 2009 - 2011?\n",
      "Answer: Correct\n",
      "\n",
      "\n"
     ]
    }
   ],
   "source": [
    "print('Question: In general, does it look like crime decreases from 2002 - 2012?')\n",
    "print('Answer: Correct')\n",
    "print('\\n')\n",
    "\n",
    "print('Question: In general, does it look like crime increases from 2005 - 2008?')\n",
    "print('Answer: Wrong')\n",
    "print('\\n')\n",
    "\n",
    "print('Question: In general, does it look like crime increases from 2009 - 2011?')\n",
    "print('Answer: Correct')\n",
    "print('\\n')"
   ]
  },
  {
   "cell_type": "markdown",
   "metadata": {},
   "source": [
    "### 6) Crimes for which more arrests were made are in the first half of the time period or the second half of the time period? \n",
    " i)  First half (2001 to 2006)   \n",
    "ii) Second half (2007 to 2012)"
   ]
  },
  {
   "cell_type": "code",
   "execution_count": 24,
   "metadata": {},
   "outputs": [
    {
     "name": "stdout",
     "output_type": "stream",
     "text": [
      "Crimes Arrest made in First half  :  10588\n",
      "Crimes Arrest made in Second half :  4948\n"
     ]
    }
   ],
   "source": [
    "yearly_crimes = chicago[chicago['Arrest']==True].Year.value_counts()\n",
    "print('Crimes Arrest made in First half  : ', yearly_crimes[0:6].sum())\n",
    "print('Crimes Arrest made in Second half : ', yearly_crimes[6:13].sum())"
   ]
  },
  {
   "cell_type": "markdown",
   "metadata": {},
   "source": [
    "**Observation:**  More Arrests were made in **first half** period."
   ]
  },
  {
   "cell_type": "markdown",
   "metadata": {},
   "source": [
    "### 7) For what proportion of motor vehicle thefts in 2001 was an arrest made? \n",
    "i) 0.06, ii) 0.08, iii) 0.10, iv) 0.12"
   ]
  },
  {
   "cell_type": "code",
   "execution_count": 25,
   "metadata": {},
   "outputs": [
    {
     "name": "stdout",
     "output_type": "stream",
     "text": [
      "Proportion of motor vehicle thefts in 2001 was an arrest made is :  0.12\n"
     ]
    }
   ],
   "source": [
    "Arrested_2001 = chicago[(chicago.Year==2001) & (chicago.Arrest==True)].ID.count()\n",
    "Not_Arrested_2001 = chicago[(chicago.Year==2001) & (chicago.Arrest==False)].ID.count()\n",
    "print('Proportion of motor vehicle thefts in 2001 was an arrest made is : ', round(Arrested_2001/Not_Arrested_2001, 2))"
   ]
  },
  {
   "cell_type": "markdown",
   "metadata": {},
   "source": [
    "### 8) For what proportion of motor vehicle thefts in 2007 was an arrest made? \n",
    "(round your answer to 2 decimal places) "
   ]
  },
  {
   "cell_type": "code",
   "execution_count": 26,
   "metadata": {},
   "outputs": [
    {
     "name": "stdout",
     "output_type": "stream",
     "text": [
      "Proportion of motor vehicle thefts in 2007 was an arrest made is :  0.09\n"
     ]
    }
   ],
   "source": [
    "Arrested_2007 = chicago[(chicago.Year==2007) & (chicago.Arrest==True)].ID.count()\n",
    "Not_Arrested_2007 = chicago[(chicago.Year==2007) & (chicago.Arrest==False)].ID.count()\n",
    "print('Proportion of motor vehicle thefts in 2007 was an arrest made is : ', round(Arrested_2007/Not_Arrested_2007, 2))"
   ]
  },
  {
   "cell_type": "markdown",
   "metadata": {},
   "source": [
    "### 9) Which locations are the top five locations for motor vehicle thefts, excluding the \"Other\" category? \n",
    "Bank, \n",
    "Gas Station, \n",
    "Hotel/Motel, \n",
    "Street, \n",
    "Car Wash, \n",
    "Restaurant, \n",
    "Parking Lot/Garage (Non-Residential), \n",
    "Alley, \n",
    "Driveway (Residential), \n",
    "Vacant Lot/Land"
   ]
  },
  {
   "cell_type": "code",
   "execution_count": null,
   "metadata": {},
   "outputs": [],
   "source": [
    "chicago.LocationDescription.value_counts().head(6)"
   ]
  },
  {
   "cell_type": "markdown",
   "metadata": {},
   "source": [
    "**Observation:**\n",
    "From the above observation, Top five locations except \"Other\" are:\n",
    "1. 'STREET', \n",
    "2. 'PARKING LOT/GARAGE(NON.RESID.)', \n",
    "3. 'ALLEY', \n",
    "4. 'GAS STATION',\n",
    "5. 'DRIVEWAY - RESIDENTIAL'"
   ]
  },
  {
   "cell_type": "markdown",
   "metadata": {},
   "source": [
    "### 10) Create a subset of your data, only taking observations for which the theft happened in one of these five locations, and call this new data set \"Top5\". How many observations are in Top5?"
   ]
  },
  {
   "cell_type": "code",
   "execution_count": 27,
   "metadata": {},
   "outputs": [
    {
     "name": "stdout",
     "output_type": "stream",
     "text": [
      "Total observations in Top5 data frame is :  177510\n"
     ]
    }
   ],
   "source": [
    "# Creating a list with top 5 locations which have more motor vehicle thefts\n",
    "top5_loc_list=['STREET','PARKING LOT/GARAGE(NON.RESID.)', 'ALLEY', 'GAS STATION', 'DRIVEWAY - RESIDENTIAL']\n",
    "# Creating a data frame with these location values\n",
    "Top5 = chicago[chicago.LocationDescription.isin(top5_loc_list)]\n",
    "print('Total observations in Top5 data frame is : ', Top5.shape[0])"
   ]
  },
  {
   "cell_type": "code",
   "execution_count": null,
   "metadata": {},
   "outputs": [],
   "source": [
    "# Alternative method:\n",
    "chicago.LocationDescription.value_counts().head(6).sum()-4573"
   ]
  },
  {
   "cell_type": "markdown",
   "metadata": {},
   "source": [
    "### 11) On which day of the week do the most motor vehicle thefts at gas stations happen?\n",
    "Monday, \n",
    "Tuesday, \n",
    "Wednesday, \n",
    "Thursday, \n",
    "Friday, \n",
    "Saturday, \n",
    "Sunday"
   ]
  },
  {
   "cell_type": "code",
   "execution_count": 28,
   "metadata": {},
   "outputs": [
    {
     "data": {
      "text/plain": [
       "5    338\n",
       "6    336\n",
       "4    332\n",
       "3    282\n",
       "0    280\n",
       "2    273\n",
       "1    270\n",
       "Name: Date, dtype: int64"
      ]
     },
     "execution_count": 28,
     "metadata": {},
     "output_type": "execute_result"
    }
   ],
   "source": [
    "chicago[chicago.LocationDescription == 'GAS STATION'].Date.dt.weekday.value_counts()"
   ]
  },
  {
   "cell_type": "markdown",
   "metadata": {},
   "source": [
    "**Observation:**  \n",
    "By observing above results, number 5 is having maximum vehicle theft.   \n",
    "So vehicle theft is more on **Saturday**.\n",
    "\n",
    "*Note:*  \n",
    "0 - Monday  \n",
    "1 - Tuesday  \n",
    "2 - Wednessday  \n",
    "3 - Thurday  \n",
    "4 - Friday  \n",
    "5 - Saturday  \n",
    "6 - Sunday"
   ]
  }
 ],
 "metadata": {
  "kernelspec": {
   "display_name": "Python 3",
   "language": "python",
   "name": "python3"
  },
  "language_info": {
   "codemirror_mode": {
    "name": "ipython",
    "version": 3
   },
   "file_extension": ".py",
   "mimetype": "text/x-python",
   "name": "python",
   "nbconvert_exporter": "python",
   "pygments_lexer": "ipython3",
   "version": "3.7.6"
  }
 },
 "nbformat": 4,
 "nbformat_minor": 4
}
